{
  "cells": [
    {
      "cell_type": "markdown",
      "metadata": {
        "id": "p814sgXJERi0"
      },
      "source": [
        "![image](https://analyticsindiamag.com/wp-content/uploads/2020/04/Screenshot-2020-04-15-at-10.08.12-AM.png)"
      ]
    },
    {
      "cell_type": "markdown",
      "metadata": {
        "id": "0IFzERN2E3GJ"
      },
      "source": [
        "## Business Problem Understanding\n",
        "\n",
        "- According to the World Health Organization (WHO) stroke is the 2nd leading cause of death globally, responsible for approximately 11% of total deaths.\n",
        "\n",
        "- This dataset is used to predict whether a patient is likely to get stroke based on the input parameters like gender, age, various diseases, and smoking status.\n",
        "\n",
        "- Each row in the data provides relavant information about the patient.\n",
        "\n",
        "## Attribute Information\n",
        "- 1) id: unique identifier\n",
        "- 2) gender: \"Male\", \"Female\" or \"Other\"\n",
        "- 3) age: age of the patient\n",
        "- 4) hypertension: 0 if the patient doesn't have hypertension, 1 if the patient has hypertension\n",
        "- 5) heart_disease: 0 if the patient doesn't have any heart diseases, 1 if the patient has a heart disease\n",
        "- 6) ever_married: \"No\" or \"Yes\"\n",
        "- 7) work_type: \"children\", \"Govt_jov\", \"Never_worked\", \"Private\" or \"Self-employed\"\n",
        "- 8) Residence_type: \"Rural\" or \"Urban\"\n",
        "- 9) avg_glucose_level: average glucose level in blood\n",
        "- 10) bmi: body mass index\n",
        "- 11) smoking_status: \"formerly smoked\", \"never smoked\", \"smokes\" or \"Unknown\"*\n",
        "- 12) stroke: 1 if the patient had a stroke or 0 if not\n",
        "\n",
        "*Note: \"Unknown\" in smoking_status means that the information is unavailable for this patient\n",
        "\n"
      ]
    },
    {
      "cell_type": "markdown",
      "metadata": {
        "id": "c1HtQqj9F9vh"
      },
      "source": [
        "## Data Collection/Data Import"
      ]
    },
    {
      "cell_type": "markdown",
      "metadata": {
        "id": "6tqw3sJpFrG5"
      },
      "source": [
        "**The dataset is available at this google drive link:**\n",
        "**Use gdown to download this in the colab environment directly.**\n",
        "\n",
        "!gdown https://drive.google.com/uc?id=1vs0cmeKYeht_d07C1HvHFUIxD-IfEACL\n"
      ]
    },
    {
      "cell_type": "code",
      "execution_count": 620,
      "metadata": {
        "id": "wc7c2HmyDPlg"
      },
      "outputs": [
        {
          "name": "stderr",
          "output_type": "stream",
          "text": [
            "Downloading...\n",
            "From: https://drive.google.com/uc?id=1vs0cmeKYeht_d07C1HvHFUIxD-IfEACL\n",
            "To: d:\\FuseMachine AI\\Data Wangling\\stroke_data.csv\n",
            "\n",
            "  0%|          | 0.00/484k [00:00<?, ?B/s]\n",
            "100%|██████████| 484k/484k [00:00<00:00, 1.48MB/s]\n",
            "100%|██████████| 484k/484k [00:00<00:00, 1.48MB/s]\n"
          ]
        }
      ],
      "source": [
        "## write your code here\n",
        "!gdown https://drive.google.com/uc?id=1vs0cmeKYeht_d07C1HvHFUIxD-IfEACL"
      ]
    },
    {
      "cell_type": "markdown",
      "metadata": {
        "id": "BcEVPy03Ef6X"
      },
      "source": [
        "## Importing Necessary libraries"
      ]
    },
    {
      "cell_type": "code",
      "execution_count": 621,
      "metadata": {
        "id": "WVMCc1INEhvr"
      },
      "outputs": [],
      "source": [
        "import os\n",
        "import gdown\n",
        "import numpy as np\n",
        "import pandas as pd\n",
        "import seaborn as sns\n",
        "import matplotlib.pyplot as plt"
      ]
    },
    {
      "cell_type": "markdown",
      "metadata": {
        "id": "gIPI9WxRGWvx"
      },
      "source": [
        "## Importing Data From CSV File Using Pandas"
      ]
    },
    {
      "cell_type": "code",
      "execution_count": 622,
      "metadata": {
        "id": "zIwmS8GTGWNr"
      },
      "outputs": [
        {
          "data": {
            "text/html": [
              "<div>\n",
              "<style scoped>\n",
              "    .dataframe tbody tr th:only-of-type {\n",
              "        vertical-align: middle;\n",
              "    }\n",
              "\n",
              "    .dataframe tbody tr th {\n",
              "        vertical-align: top;\n",
              "    }\n",
              "\n",
              "    .dataframe thead th {\n",
              "        text-align: right;\n",
              "    }\n",
              "</style>\n",
              "<table border=\"1\" class=\"dataframe\">\n",
              "  <thead>\n",
              "    <tr style=\"text-align: right;\">\n",
              "      <th></th>\n",
              "      <th>id</th>\n",
              "      <th>gender</th>\n",
              "      <th>age</th>\n",
              "      <th>height_in_m</th>\n",
              "      <th>weight_in_kg</th>\n",
              "      <th>avg_glucose_level</th>\n",
              "      <th>bmi</th>\n",
              "      <th>smoking_status</th>\n",
              "      <th>hypertension</th>\n",
              "      <th>heart_disease</th>\n",
              "      <th>ever_married</th>\n",
              "      <th>work_type</th>\n",
              "      <th>Residence_type</th>\n",
              "      <th>stroke</th>\n",
              "    </tr>\n",
              "  </thead>\n",
              "  <tbody>\n",
              "    <tr>\n",
              "      <th>0</th>\n",
              "      <td>9046</td>\n",
              "      <td>Male</td>\n",
              "      <td>67.0</td>\n",
              "      <td>1.82880</td>\n",
              "      <td>122.409046</td>\n",
              "      <td>169.35</td>\n",
              "      <td>36.6</td>\n",
              "      <td>formerly smoked</td>\n",
              "      <td>0</td>\n",
              "      <td>1</td>\n",
              "      <td>Yes</td>\n",
              "      <td>Private</td>\n",
              "      <td>Urban</td>\n",
              "      <td>1</td>\n",
              "    </tr>\n",
              "    <tr>\n",
              "      <th>1</th>\n",
              "      <td>51676</td>\n",
              "      <td>Female</td>\n",
              "      <td>61.0</td>\n",
              "      <td>1.64592</td>\n",
              "      <td>NaN</td>\n",
              "      <td>169.35</td>\n",
              "      <td>NaN</td>\n",
              "      <td>never smoked</td>\n",
              "      <td>0</td>\n",
              "      <td>0</td>\n",
              "      <td>Yes</td>\n",
              "      <td>Self-employed</td>\n",
              "      <td>Rural</td>\n",
              "      <td>1</td>\n",
              "    </tr>\n",
              "    <tr>\n",
              "      <th>2</th>\n",
              "      <td>31112</td>\n",
              "      <td>Male</td>\n",
              "      <td>80.0</td>\n",
              "      <td>1.79832</td>\n",
              "      <td>105.103532</td>\n",
              "      <td>105.92</td>\n",
              "      <td>32.5</td>\n",
              "      <td>never smoked</td>\n",
              "      <td>0</td>\n",
              "      <td>1</td>\n",
              "      <td>Yes</td>\n",
              "      <td>Private</td>\n",
              "      <td>Rural</td>\n",
              "      <td>1</td>\n",
              "    </tr>\n",
              "    <tr>\n",
              "      <th>3</th>\n",
              "      <td>60182</td>\n",
              "      <td>Female</td>\n",
              "      <td>49.0</td>\n",
              "      <td>1.92024</td>\n",
              "      <td>126.843865</td>\n",
              "      <td>169.35</td>\n",
              "      <td>34.4</td>\n",
              "      <td>smokes</td>\n",
              "      <td>0</td>\n",
              "      <td>0</td>\n",
              "      <td>Yes</td>\n",
              "      <td>Private</td>\n",
              "      <td>Urban</td>\n",
              "      <td>1</td>\n",
              "    </tr>\n",
              "    <tr>\n",
              "      <th>4</th>\n",
              "      <td>1665</td>\n",
              "      <td>female</td>\n",
              "      <td>79.0</td>\n",
              "      <td>1.85928</td>\n",
              "      <td>82.966131</td>\n",
              "      <td>169.35</td>\n",
              "      <td>24.0</td>\n",
              "      <td>never smoked</td>\n",
              "      <td>1</td>\n",
              "      <td>0</td>\n",
              "      <td>Yes</td>\n",
              "      <td>Self-employed</td>\n",
              "      <td>Rural</td>\n",
              "      <td>1</td>\n",
              "    </tr>\n",
              "    <tr>\n",
              "      <th>...</th>\n",
              "      <td>...</td>\n",
              "      <td>...</td>\n",
              "      <td>...</td>\n",
              "      <td>...</td>\n",
              "      <td>...</td>\n",
              "      <td>...</td>\n",
              "      <td>...</td>\n",
              "      <td>...</td>\n",
              "      <td>...</td>\n",
              "      <td>...</td>\n",
              "      <td>...</td>\n",
              "      <td>...</td>\n",
              "      <td>...</td>\n",
              "      <td>...</td>\n",
              "    </tr>\n",
              "    <tr>\n",
              "      <th>5130</th>\n",
              "      <td>46373</td>\n",
              "      <td>Female</td>\n",
              "      <td>57.0</td>\n",
              "      <td>1.67640</td>\n",
              "      <td>72.506178</td>\n",
              "      <td>169.97</td>\n",
              "      <td>25.8</td>\n",
              "      <td>never smoked</td>\n",
              "      <td>0</td>\n",
              "      <td>0</td>\n",
              "      <td>Yes</td>\n",
              "      <td>Private</td>\n",
              "      <td>Rural</td>\n",
              "      <td>0</td>\n",
              "    </tr>\n",
              "    <tr>\n",
              "      <th>5131</th>\n",
              "      <td>40112</td>\n",
              "      <td>Female</td>\n",
              "      <td>37.0</td>\n",
              "      <td>1.92024</td>\n",
              "      <td>92.551774</td>\n",
              "      <td>118.41</td>\n",
              "      <td>25.1</td>\n",
              "      <td>never smoked</td>\n",
              "      <td>0</td>\n",
              "      <td>0</td>\n",
              "      <td>No</td>\n",
              "      <td>Private</td>\n",
              "      <td>Urban</td>\n",
              "      <td>0</td>\n",
              "    </tr>\n",
              "    <tr>\n",
              "      <th>5132</th>\n",
              "      <td>32240</td>\n",
              "      <td>Female</td>\n",
              "      <td>27.0</td>\n",
              "      <td>1.82880</td>\n",
              "      <td>139.131593</td>\n",
              "      <td>93.55</td>\n",
              "      <td>41.6</td>\n",
              "      <td>never smoked</td>\n",
              "      <td>0</td>\n",
              "      <td>0</td>\n",
              "      <td>No</td>\n",
              "      <td>Private</td>\n",
              "      <td>Urban</td>\n",
              "      <td>0</td>\n",
              "    </tr>\n",
              "    <tr>\n",
              "      <th>5133</th>\n",
              "      <td>69312</td>\n",
              "      <td>Female</td>\n",
              "      <td>48.0</td>\n",
              "      <td>1.58496</td>\n",
              "      <td>78.377464</td>\n",
              "      <td>99.29</td>\n",
              "      <td>31.2</td>\n",
              "      <td>never smoked</td>\n",
              "      <td>0</td>\n",
              "      <td>0</td>\n",
              "      <td>Yes</td>\n",
              "      <td>Self-employed</td>\n",
              "      <td>Urban</td>\n",
              "      <td>0</td>\n",
              "    </tr>\n",
              "    <tr>\n",
              "      <th>5134</th>\n",
              "      <td>25763</td>\n",
              "      <td>Female</td>\n",
              "      <td>23.0</td>\n",
              "      <td>1.64592</td>\n",
              "      <td>76.666190</td>\n",
              "      <td>98.66</td>\n",
              "      <td>28.3</td>\n",
              "      <td>Unknown</td>\n",
              "      <td>0</td>\n",
              "      <td>0</td>\n",
              "      <td>No</td>\n",
              "      <td>Private</td>\n",
              "      <td>Urban</td>\n",
              "      <td>0</td>\n",
              "    </tr>\n",
              "  </tbody>\n",
              "</table>\n",
              "<p>5135 rows × 14 columns</p>\n",
              "</div>"
            ],
            "text/plain": [
              "         id  gender   age  height_in_m  weight_in_kg  avg_glucose_level   bmi  \\\n",
              "0      9046    Male  67.0      1.82880    122.409046             169.35  36.6   \n",
              "1     51676  Female  61.0      1.64592           NaN             169.35   NaN   \n",
              "2     31112    Male  80.0      1.79832    105.103532             105.92  32.5   \n",
              "3     60182  Female  49.0      1.92024    126.843865             169.35  34.4   \n",
              "4      1665  female  79.0      1.85928     82.966131             169.35  24.0   \n",
              "...     ...     ...   ...          ...           ...                ...   ...   \n",
              "5130  46373  Female  57.0      1.67640     72.506178             169.97  25.8   \n",
              "5131  40112  Female  37.0      1.92024     92.551774             118.41  25.1   \n",
              "5132  32240  Female  27.0      1.82880    139.131593              93.55  41.6   \n",
              "5133  69312  Female  48.0      1.58496     78.377464              99.29  31.2   \n",
              "5134  25763  Female  23.0      1.64592     76.666190              98.66  28.3   \n",
              "\n",
              "       smoking_status  hypertension  heart_disease ever_married  \\\n",
              "0     formerly smoked             0              1          Yes   \n",
              "1        never smoked             0              0          Yes   \n",
              "2        never smoked             0              1          Yes   \n",
              "3              smokes             0              0          Yes   \n",
              "4        never smoked             1              0          Yes   \n",
              "...               ...           ...            ...          ...   \n",
              "5130     never smoked             0              0          Yes   \n",
              "5131     never smoked             0              0           No   \n",
              "5132     never smoked             0              0           No   \n",
              "5133     never smoked             0              0          Yes   \n",
              "5134          Unknown             0              0           No   \n",
              "\n",
              "          work_type Residence_type  stroke  \n",
              "0           Private          Urban       1  \n",
              "1     Self-employed          Rural       1  \n",
              "2           Private          Rural       1  \n",
              "3           Private          Urban       1  \n",
              "4     Self-employed          Rural       1  \n",
              "...             ...            ...     ...  \n",
              "5130        Private          Rural       0  \n",
              "5131        Private          Urban       0  \n",
              "5132        Private          Urban       0  \n",
              "5133  Self-employed          Urban       0  \n",
              "5134        Private          Urban       0  \n",
              "\n",
              "[5135 rows x 14 columns]"
            ]
          },
          "execution_count": 622,
          "metadata": {},
          "output_type": "execute_result"
        }
      ],
      "source": [
        "## write your code here\n",
        "df = pd.read_csv(\"D:\\FuseMachine AI\\Data Wangling\\stroke_data.csv\") \n",
        "df"
      ]
    },
    {
      "cell_type": "markdown",
      "metadata": {
        "id": "LIC0Mi2kGlvc"
      },
      "source": [
        "## Data Understanding:"
      ]
    },
    {
      "cell_type": "markdown",
      "metadata": {
        "id": "0mSxRinbGgCh"
      },
      "source": [
        "### Print the first five rows of the pandas dataframe"
      ]
    },
    {
      "cell_type": "code",
      "execution_count": 623,
      "metadata": {
        "id": "6VMFr1B6GQri"
      },
      "outputs": [
        {
          "data": {
            "text/html": [
              "<div>\n",
              "<style scoped>\n",
              "    .dataframe tbody tr th:only-of-type {\n",
              "        vertical-align: middle;\n",
              "    }\n",
              "\n",
              "    .dataframe tbody tr th {\n",
              "        vertical-align: top;\n",
              "    }\n",
              "\n",
              "    .dataframe thead th {\n",
              "        text-align: right;\n",
              "    }\n",
              "</style>\n",
              "<table border=\"1\" class=\"dataframe\">\n",
              "  <thead>\n",
              "    <tr style=\"text-align: right;\">\n",
              "      <th></th>\n",
              "      <th>id</th>\n",
              "      <th>gender</th>\n",
              "      <th>age</th>\n",
              "      <th>height_in_m</th>\n",
              "      <th>weight_in_kg</th>\n",
              "      <th>avg_glucose_level</th>\n",
              "      <th>bmi</th>\n",
              "      <th>smoking_status</th>\n",
              "      <th>hypertension</th>\n",
              "      <th>heart_disease</th>\n",
              "      <th>ever_married</th>\n",
              "      <th>work_type</th>\n",
              "      <th>Residence_type</th>\n",
              "      <th>stroke</th>\n",
              "    </tr>\n",
              "  </thead>\n",
              "  <tbody>\n",
              "    <tr>\n",
              "      <th>0</th>\n",
              "      <td>9046</td>\n",
              "      <td>Male</td>\n",
              "      <td>67.0</td>\n",
              "      <td>1.82880</td>\n",
              "      <td>122.409046</td>\n",
              "      <td>169.35</td>\n",
              "      <td>36.6</td>\n",
              "      <td>formerly smoked</td>\n",
              "      <td>0</td>\n",
              "      <td>1</td>\n",
              "      <td>Yes</td>\n",
              "      <td>Private</td>\n",
              "      <td>Urban</td>\n",
              "      <td>1</td>\n",
              "    </tr>\n",
              "    <tr>\n",
              "      <th>1</th>\n",
              "      <td>51676</td>\n",
              "      <td>Female</td>\n",
              "      <td>61.0</td>\n",
              "      <td>1.64592</td>\n",
              "      <td>NaN</td>\n",
              "      <td>169.35</td>\n",
              "      <td>NaN</td>\n",
              "      <td>never smoked</td>\n",
              "      <td>0</td>\n",
              "      <td>0</td>\n",
              "      <td>Yes</td>\n",
              "      <td>Self-employed</td>\n",
              "      <td>Rural</td>\n",
              "      <td>1</td>\n",
              "    </tr>\n",
              "    <tr>\n",
              "      <th>2</th>\n",
              "      <td>31112</td>\n",
              "      <td>Male</td>\n",
              "      <td>80.0</td>\n",
              "      <td>1.79832</td>\n",
              "      <td>105.103532</td>\n",
              "      <td>105.92</td>\n",
              "      <td>32.5</td>\n",
              "      <td>never smoked</td>\n",
              "      <td>0</td>\n",
              "      <td>1</td>\n",
              "      <td>Yes</td>\n",
              "      <td>Private</td>\n",
              "      <td>Rural</td>\n",
              "      <td>1</td>\n",
              "    </tr>\n",
              "    <tr>\n",
              "      <th>3</th>\n",
              "      <td>60182</td>\n",
              "      <td>Female</td>\n",
              "      <td>49.0</td>\n",
              "      <td>1.92024</td>\n",
              "      <td>126.843865</td>\n",
              "      <td>169.35</td>\n",
              "      <td>34.4</td>\n",
              "      <td>smokes</td>\n",
              "      <td>0</td>\n",
              "      <td>0</td>\n",
              "      <td>Yes</td>\n",
              "      <td>Private</td>\n",
              "      <td>Urban</td>\n",
              "      <td>1</td>\n",
              "    </tr>\n",
              "    <tr>\n",
              "      <th>4</th>\n",
              "      <td>1665</td>\n",
              "      <td>female</td>\n",
              "      <td>79.0</td>\n",
              "      <td>1.85928</td>\n",
              "      <td>82.966131</td>\n",
              "      <td>169.35</td>\n",
              "      <td>24.0</td>\n",
              "      <td>never smoked</td>\n",
              "      <td>1</td>\n",
              "      <td>0</td>\n",
              "      <td>Yes</td>\n",
              "      <td>Self-employed</td>\n",
              "      <td>Rural</td>\n",
              "      <td>1</td>\n",
              "    </tr>\n",
              "  </tbody>\n",
              "</table>\n",
              "</div>"
            ],
            "text/plain": [
              "      id  gender   age  height_in_m  weight_in_kg  avg_glucose_level   bmi  \\\n",
              "0   9046    Male  67.0      1.82880    122.409046             169.35  36.6   \n",
              "1  51676  Female  61.0      1.64592           NaN             169.35   NaN   \n",
              "2  31112    Male  80.0      1.79832    105.103532             105.92  32.5   \n",
              "3  60182  Female  49.0      1.92024    126.843865             169.35  34.4   \n",
              "4   1665  female  79.0      1.85928     82.966131             169.35  24.0   \n",
              "\n",
              "    smoking_status  hypertension  heart_disease ever_married      work_type  \\\n",
              "0  formerly smoked             0              1          Yes        Private   \n",
              "1     never smoked             0              0          Yes  Self-employed   \n",
              "2     never smoked             0              1          Yes        Private   \n",
              "3           smokes             0              0          Yes        Private   \n",
              "4     never smoked             1              0          Yes  Self-employed   \n",
              "\n",
              "  Residence_type  stroke  \n",
              "0          Urban       1  \n",
              "1          Rural       1  \n",
              "2          Rural       1  \n",
              "3          Urban       1  \n",
              "4          Rural       1  "
            ]
          },
          "execution_count": 623,
          "metadata": {},
          "output_type": "execute_result"
        }
      ],
      "source": [
        "## write your code here\n",
        "df.head()"
      ]
    },
    {
      "cell_type": "markdown",
      "metadata": {
        "id": "aMPQwK1CG4N4"
      },
      "source": [
        "## Print the last five rows of the pandas dataframe"
      ]
    },
    {
      "cell_type": "code",
      "execution_count": 624,
      "metadata": {
        "id": "ETMqdQzIGqwm"
      },
      "outputs": [
        {
          "data": {
            "text/html": [
              "<div>\n",
              "<style scoped>\n",
              "    .dataframe tbody tr th:only-of-type {\n",
              "        vertical-align: middle;\n",
              "    }\n",
              "\n",
              "    .dataframe tbody tr th {\n",
              "        vertical-align: top;\n",
              "    }\n",
              "\n",
              "    .dataframe thead th {\n",
              "        text-align: right;\n",
              "    }\n",
              "</style>\n",
              "<table border=\"1\" class=\"dataframe\">\n",
              "  <thead>\n",
              "    <tr style=\"text-align: right;\">\n",
              "      <th></th>\n",
              "      <th>id</th>\n",
              "      <th>gender</th>\n",
              "      <th>age</th>\n",
              "      <th>height_in_m</th>\n",
              "      <th>weight_in_kg</th>\n",
              "      <th>avg_glucose_level</th>\n",
              "      <th>bmi</th>\n",
              "      <th>smoking_status</th>\n",
              "      <th>hypertension</th>\n",
              "      <th>heart_disease</th>\n",
              "      <th>ever_married</th>\n",
              "      <th>work_type</th>\n",
              "      <th>Residence_type</th>\n",
              "      <th>stroke</th>\n",
              "    </tr>\n",
              "  </thead>\n",
              "  <tbody>\n",
              "    <tr>\n",
              "      <th>5130</th>\n",
              "      <td>46373</td>\n",
              "      <td>Female</td>\n",
              "      <td>57.0</td>\n",
              "      <td>1.67640</td>\n",
              "      <td>72.506178</td>\n",
              "      <td>169.97</td>\n",
              "      <td>25.8</td>\n",
              "      <td>never smoked</td>\n",
              "      <td>0</td>\n",
              "      <td>0</td>\n",
              "      <td>Yes</td>\n",
              "      <td>Private</td>\n",
              "      <td>Rural</td>\n",
              "      <td>0</td>\n",
              "    </tr>\n",
              "    <tr>\n",
              "      <th>5131</th>\n",
              "      <td>40112</td>\n",
              "      <td>Female</td>\n",
              "      <td>37.0</td>\n",
              "      <td>1.92024</td>\n",
              "      <td>92.551774</td>\n",
              "      <td>118.41</td>\n",
              "      <td>25.1</td>\n",
              "      <td>never smoked</td>\n",
              "      <td>0</td>\n",
              "      <td>0</td>\n",
              "      <td>No</td>\n",
              "      <td>Private</td>\n",
              "      <td>Urban</td>\n",
              "      <td>0</td>\n",
              "    </tr>\n",
              "    <tr>\n",
              "      <th>5132</th>\n",
              "      <td>32240</td>\n",
              "      <td>Female</td>\n",
              "      <td>27.0</td>\n",
              "      <td>1.82880</td>\n",
              "      <td>139.131593</td>\n",
              "      <td>93.55</td>\n",
              "      <td>41.6</td>\n",
              "      <td>never smoked</td>\n",
              "      <td>0</td>\n",
              "      <td>0</td>\n",
              "      <td>No</td>\n",
              "      <td>Private</td>\n",
              "      <td>Urban</td>\n",
              "      <td>0</td>\n",
              "    </tr>\n",
              "    <tr>\n",
              "      <th>5133</th>\n",
              "      <td>69312</td>\n",
              "      <td>Female</td>\n",
              "      <td>48.0</td>\n",
              "      <td>1.58496</td>\n",
              "      <td>78.377464</td>\n",
              "      <td>99.29</td>\n",
              "      <td>31.2</td>\n",
              "      <td>never smoked</td>\n",
              "      <td>0</td>\n",
              "      <td>0</td>\n",
              "      <td>Yes</td>\n",
              "      <td>Self-employed</td>\n",
              "      <td>Urban</td>\n",
              "      <td>0</td>\n",
              "    </tr>\n",
              "    <tr>\n",
              "      <th>5134</th>\n",
              "      <td>25763</td>\n",
              "      <td>Female</td>\n",
              "      <td>23.0</td>\n",
              "      <td>1.64592</td>\n",
              "      <td>76.666190</td>\n",
              "      <td>98.66</td>\n",
              "      <td>28.3</td>\n",
              "      <td>Unknown</td>\n",
              "      <td>0</td>\n",
              "      <td>0</td>\n",
              "      <td>No</td>\n",
              "      <td>Private</td>\n",
              "      <td>Urban</td>\n",
              "      <td>0</td>\n",
              "    </tr>\n",
              "  </tbody>\n",
              "</table>\n",
              "</div>"
            ],
            "text/plain": [
              "         id  gender   age  height_in_m  weight_in_kg  avg_glucose_level   bmi  \\\n",
              "5130  46373  Female  57.0      1.67640     72.506178             169.97  25.8   \n",
              "5131  40112  Female  37.0      1.92024     92.551774             118.41  25.1   \n",
              "5132  32240  Female  27.0      1.82880    139.131593              93.55  41.6   \n",
              "5133  69312  Female  48.0      1.58496     78.377464              99.29  31.2   \n",
              "5134  25763  Female  23.0      1.64592     76.666190              98.66  28.3   \n",
              "\n",
              "     smoking_status  hypertension  heart_disease ever_married      work_type  \\\n",
              "5130   never smoked             0              0          Yes        Private   \n",
              "5131   never smoked             0              0           No        Private   \n",
              "5132   never smoked             0              0           No        Private   \n",
              "5133   never smoked             0              0          Yes  Self-employed   \n",
              "5134        Unknown             0              0           No        Private   \n",
              "\n",
              "     Residence_type  stroke  \n",
              "5130          Rural       0  \n",
              "5131          Urban       0  \n",
              "5132          Urban       0  \n",
              "5133          Urban       0  \n",
              "5134          Urban       0  "
            ]
          },
          "execution_count": 624,
          "metadata": {},
          "output_type": "execute_result"
        }
      ],
      "source": [
        "## write your code here\n",
        "df.tail()"
      ]
    },
    {
      "cell_type": "markdown",
      "metadata": {
        "id": "IzKZZ5aTG_SE"
      },
      "source": [
        "## What is the shape of the dataset?"
      ]
    },
    {
      "cell_type": "code",
      "execution_count": 625,
      "metadata": {
        "id": "Z2GuUdYEG8zb"
      },
      "outputs": [
        {
          "data": {
            "text/plain": [
              "(5135, 14)"
            ]
          },
          "execution_count": 625,
          "metadata": {},
          "output_type": "execute_result"
        }
      ],
      "source": [
        "## write your code here\n",
        "df.shape"
      ]
    },
    {
      "cell_type": "markdown",
      "metadata": {
        "id": "SezKlK60HIaF"
      },
      "source": [
        "## What are the name of the columns in the dataframe?"
      ]
    },
    {
      "cell_type": "code",
      "execution_count": 626,
      "metadata": {
        "id": "v6NSIuTcHEaO"
      },
      "outputs": [
        {
          "data": {
            "text/plain": [
              "Index(['id', 'gender', 'age', 'height_in_m', 'weight_in_kg',\n",
              "       'avg_glucose_level', 'bmi', 'smoking_status', 'hypertension',\n",
              "       'heart_disease', 'ever_married', 'work_type', 'Residence_type',\n",
              "       'stroke'],\n",
              "      dtype='object')"
            ]
          },
          "execution_count": 626,
          "metadata": {},
          "output_type": "execute_result"
        }
      ],
      "source": [
        "## write your code here\n",
        "df.columns"
      ]
    },
    {
      "cell_type": "markdown",
      "metadata": {
        "id": "sxCe3aFGHPqT"
      },
      "source": [
        "### What are the datatypes of each feature in the dataset?"
      ]
    },
    {
      "cell_type": "code",
      "execution_count": 627,
      "metadata": {
        "id": "nORQCnZKHNed"
      },
      "outputs": [
        {
          "name": "stdout",
          "output_type": "stream",
          "text": [
            "<class 'pandas.core.frame.DataFrame'>\n",
            "RangeIndex: 5135 entries, 0 to 5134\n",
            "Data columns (total 14 columns):\n",
            " #   Column             Non-Null Count  Dtype  \n",
            "---  ------             --------------  -----  \n",
            " 0   id                 5135 non-null   int64  \n",
            " 1   gender             5135 non-null   object \n",
            " 2   age                5135 non-null   float64\n",
            " 3   height_in_m        5135 non-null   float64\n",
            " 4   weight_in_kg       4934 non-null   float64\n",
            " 5   avg_glucose_level  5135 non-null   float64\n",
            " 6   bmi                4934 non-null   float64\n",
            " 7   smoking_status     5135 non-null   object \n",
            " 8   hypertension       5135 non-null   int64  \n",
            " 9   heart_disease      5135 non-null   int64  \n",
            " 10  ever_married       4933 non-null   object \n",
            " 11  work_type          5135 non-null   object \n",
            " 12  Residence_type     5135 non-null   object \n",
            " 13  stroke             5135 non-null   int64  \n",
            "dtypes: float64(5), int64(4), object(5)\n",
            "memory usage: 561.8+ KB\n"
          ]
        }
      ],
      "source": [
        "## write your code here\n",
        "df.info()"
      ]
    },
    {
      "cell_type": "markdown",
      "metadata": {
        "id": "BTrz_4nDKRIY"
      },
      "source": [
        "## Descriptive Statistics\n",
        "\n",
        "Descriptive statistics involve a set of summary measures that provide a snapshot of the dataset's characteristics. These measures help us understand the distribution, central tendency, and variability within the data.\n",
        "\n",
        "- Mean: The average value of the data.\n",
        "- Median: The middle value when the data is sorted.\n",
        "- Mode: The most frequently occurring value.\n",
        "- Range: The difference between the maximum and minimum values.\n",
        "- Standard Deviation: A more interpretable measure of data spread.\n",
        "These statistics provide a preliminary understanding of the dataset, which is valuable for subsequent analysis and decision-making.\n",
        "\n"
      ]
    },
    {
      "cell_type": "markdown",
      "metadata": {
        "id": "PJh2DGMuKdc-"
      },
      "source": [
        "### How to see the descriptive statistics of a dataset?"
      ]
    },
    {
      "cell_type": "code",
      "execution_count": 628,
      "metadata": {
        "id": "OMzcCYTzKYpc"
      },
      "outputs": [
        {
          "data": {
            "text/html": [
              "<div>\n",
              "<style scoped>\n",
              "    .dataframe tbody tr th:only-of-type {\n",
              "        vertical-align: middle;\n",
              "    }\n",
              "\n",
              "    .dataframe tbody tr th {\n",
              "        vertical-align: top;\n",
              "    }\n",
              "\n",
              "    .dataframe thead th {\n",
              "        text-align: right;\n",
              "    }\n",
              "</style>\n",
              "<table border=\"1\" class=\"dataframe\">\n",
              "  <thead>\n",
              "    <tr style=\"text-align: right;\">\n",
              "      <th></th>\n",
              "      <th>id</th>\n",
              "      <th>age</th>\n",
              "      <th>height_in_m</th>\n",
              "      <th>weight_in_kg</th>\n",
              "      <th>avg_glucose_level</th>\n",
              "      <th>bmi</th>\n",
              "      <th>hypertension</th>\n",
              "      <th>heart_disease</th>\n",
              "      <th>stroke</th>\n",
              "    </tr>\n",
              "  </thead>\n",
              "  <tbody>\n",
              "    <tr>\n",
              "      <th>count</th>\n",
              "      <td>5135.000000</td>\n",
              "      <td>5135.000000</td>\n",
              "      <td>5135.000000</td>\n",
              "      <td>4934.000000</td>\n",
              "      <td>5135.000000</td>\n",
              "      <td>4934.000000</td>\n",
              "      <td>5135.000000</td>\n",
              "      <td>5135.000000</td>\n",
              "      <td>5135.000000</td>\n",
              "    </tr>\n",
              "    <tr>\n",
              "      <th>mean</th>\n",
              "      <td>36510.305940</td>\n",
              "      <td>43.237390</td>\n",
              "      <td>1.751992</td>\n",
              "      <td>89.172256</td>\n",
              "      <td>101.383180</td>\n",
              "      <td>28.899959</td>\n",
              "      <td>0.097176</td>\n",
              "      <td>0.053944</td>\n",
              "      <td>0.048491</td>\n",
              "    </tr>\n",
              "    <tr>\n",
              "      <th>std</th>\n",
              "      <td>21153.824243</td>\n",
              "      <td>22.601553</td>\n",
              "      <td>0.132236</td>\n",
              "      <td>27.910274</td>\n",
              "      <td>34.605155</td>\n",
              "      <td>7.847094</td>\n",
              "      <td>0.296226</td>\n",
              "      <td>0.225928</td>\n",
              "      <td>0.214822</td>\n",
              "    </tr>\n",
              "    <tr>\n",
              "      <th>min</th>\n",
              "      <td>67.000000</td>\n",
              "      <td>0.080000</td>\n",
              "      <td>1.524000</td>\n",
              "      <td>32.516064</td>\n",
              "      <td>55.120000</td>\n",
              "      <td>10.300000</td>\n",
              "      <td>0.000000</td>\n",
              "      <td>0.000000</td>\n",
              "      <td>0.000000</td>\n",
              "    </tr>\n",
              "    <tr>\n",
              "      <th>25%</th>\n",
              "      <td>17757.000000</td>\n",
              "      <td>25.000000</td>\n",
              "      <td>1.645920</td>\n",
              "      <td>69.416594</td>\n",
              "      <td>77.285000</td>\n",
              "      <td>23.500000</td>\n",
              "      <td>0.000000</td>\n",
              "      <td>0.000000</td>\n",
              "      <td>0.000000</td>\n",
              "    </tr>\n",
              "    <tr>\n",
              "      <th>50%</th>\n",
              "      <td>36896.000000</td>\n",
              "      <td>45.000000</td>\n",
              "      <td>1.737360</td>\n",
              "      <td>85.357641</td>\n",
              "      <td>91.850000</td>\n",
              "      <td>28.100000</td>\n",
              "      <td>0.000000</td>\n",
              "      <td>0.000000</td>\n",
              "      <td>0.000000</td>\n",
              "    </tr>\n",
              "    <tr>\n",
              "      <th>75%</th>\n",
              "      <td>54631.500000</td>\n",
              "      <td>61.000000</td>\n",
              "      <td>1.859280</td>\n",
              "      <td>104.671347</td>\n",
              "      <td>113.985000</td>\n",
              "      <td>33.100000</td>\n",
              "      <td>0.000000</td>\n",
              "      <td>0.000000</td>\n",
              "      <td>0.000000</td>\n",
              "    </tr>\n",
              "    <tr>\n",
              "      <th>max</th>\n",
              "      <td>72940.000000</td>\n",
              "      <td>82.000000</td>\n",
              "      <td>1.981200</td>\n",
              "      <td>348.548423</td>\n",
              "      <td>271.740000</td>\n",
              "      <td>97.600000</td>\n",
              "      <td>1.000000</td>\n",
              "      <td>1.000000</td>\n",
              "      <td>1.000000</td>\n",
              "    </tr>\n",
              "  </tbody>\n",
              "</table>\n",
              "</div>"
            ],
            "text/plain": [
              "                 id          age  height_in_m  weight_in_kg  \\\n",
              "count   5135.000000  5135.000000  5135.000000   4934.000000   \n",
              "mean   36510.305940    43.237390     1.751992     89.172256   \n",
              "std    21153.824243    22.601553     0.132236     27.910274   \n",
              "min       67.000000     0.080000     1.524000     32.516064   \n",
              "25%    17757.000000    25.000000     1.645920     69.416594   \n",
              "50%    36896.000000    45.000000     1.737360     85.357641   \n",
              "75%    54631.500000    61.000000     1.859280    104.671347   \n",
              "max    72940.000000    82.000000     1.981200    348.548423   \n",
              "\n",
              "       avg_glucose_level          bmi  hypertension  heart_disease  \\\n",
              "count        5135.000000  4934.000000   5135.000000    5135.000000   \n",
              "mean          101.383180    28.899959      0.097176       0.053944   \n",
              "std            34.605155     7.847094      0.296226       0.225928   \n",
              "min            55.120000    10.300000      0.000000       0.000000   \n",
              "25%            77.285000    23.500000      0.000000       0.000000   \n",
              "50%            91.850000    28.100000      0.000000       0.000000   \n",
              "75%           113.985000    33.100000      0.000000       0.000000   \n",
              "max           271.740000    97.600000      1.000000       1.000000   \n",
              "\n",
              "            stroke  \n",
              "count  5135.000000  \n",
              "mean      0.048491  \n",
              "std       0.214822  \n",
              "min       0.000000  \n",
              "25%       0.000000  \n",
              "50%       0.000000  \n",
              "75%       0.000000  \n",
              "max       1.000000  "
            ]
          },
          "execution_count": 628,
          "metadata": {},
          "output_type": "execute_result"
        }
      ],
      "source": [
        "## write your code here?\n",
        "df.describe()"
      ]
    },
    {
      "cell_type": "markdown",
      "metadata": {
        "id": "jYm5dkRQHdQh"
      },
      "source": [
        "## How to select gender column from the pandas dataframe?"
      ]
    },
    {
      "cell_type": "code",
      "execution_count": 629,
      "metadata": {
        "id": "K1Quzev3HWX5"
      },
      "outputs": [
        {
          "data": {
            "text/plain": [
              "0         Male\n",
              "1       Female\n",
              "2         Male\n",
              "3       Female\n",
              "4       female\n",
              "         ...  \n",
              "5130    Female\n",
              "5131    Female\n",
              "5132    Female\n",
              "5133    Female\n",
              "5134    Female\n",
              "Name: gender, Length: 5135, dtype: object"
            ]
          },
          "execution_count": 629,
          "metadata": {},
          "output_type": "execute_result"
        }
      ],
      "source": [
        "## write your code here\n",
        "df['gender']"
      ]
    },
    {
      "cell_type": "markdown",
      "metadata": {
        "id": "O87Q-Pv2HuSV"
      },
      "source": [
        "### How to select multiple columns : age, gender and bmi?"
      ]
    },
    {
      "cell_type": "code",
      "execution_count": 630,
      "metadata": {
        "id": "LhyYmkTKHm0A"
      },
      "outputs": [
        {
          "data": {
            "text/html": [
              "<div>\n",
              "<style scoped>\n",
              "    .dataframe tbody tr th:only-of-type {\n",
              "        vertical-align: middle;\n",
              "    }\n",
              "\n",
              "    .dataframe tbody tr th {\n",
              "        vertical-align: top;\n",
              "    }\n",
              "\n",
              "    .dataframe thead th {\n",
              "        text-align: right;\n",
              "    }\n",
              "</style>\n",
              "<table border=\"1\" class=\"dataframe\">\n",
              "  <thead>\n",
              "    <tr style=\"text-align: right;\">\n",
              "      <th></th>\n",
              "      <th>gender</th>\n",
              "      <th>age</th>\n",
              "      <th>bmi</th>\n",
              "    </tr>\n",
              "  </thead>\n",
              "  <tbody>\n",
              "    <tr>\n",
              "      <th>0</th>\n",
              "      <td>Male</td>\n",
              "      <td>67.0</td>\n",
              "      <td>36.6</td>\n",
              "    </tr>\n",
              "    <tr>\n",
              "      <th>1</th>\n",
              "      <td>Female</td>\n",
              "      <td>61.0</td>\n",
              "      <td>NaN</td>\n",
              "    </tr>\n",
              "    <tr>\n",
              "      <th>2</th>\n",
              "      <td>Male</td>\n",
              "      <td>80.0</td>\n",
              "      <td>32.5</td>\n",
              "    </tr>\n",
              "    <tr>\n",
              "      <th>3</th>\n",
              "      <td>Female</td>\n",
              "      <td>49.0</td>\n",
              "      <td>34.4</td>\n",
              "    </tr>\n",
              "    <tr>\n",
              "      <th>4</th>\n",
              "      <td>female</td>\n",
              "      <td>79.0</td>\n",
              "      <td>24.0</td>\n",
              "    </tr>\n",
              "    <tr>\n",
              "      <th>...</th>\n",
              "      <td>...</td>\n",
              "      <td>...</td>\n",
              "      <td>...</td>\n",
              "    </tr>\n",
              "    <tr>\n",
              "      <th>5130</th>\n",
              "      <td>Female</td>\n",
              "      <td>57.0</td>\n",
              "      <td>25.8</td>\n",
              "    </tr>\n",
              "    <tr>\n",
              "      <th>5131</th>\n",
              "      <td>Female</td>\n",
              "      <td>37.0</td>\n",
              "      <td>25.1</td>\n",
              "    </tr>\n",
              "    <tr>\n",
              "      <th>5132</th>\n",
              "      <td>Female</td>\n",
              "      <td>27.0</td>\n",
              "      <td>41.6</td>\n",
              "    </tr>\n",
              "    <tr>\n",
              "      <th>5133</th>\n",
              "      <td>Female</td>\n",
              "      <td>48.0</td>\n",
              "      <td>31.2</td>\n",
              "    </tr>\n",
              "    <tr>\n",
              "      <th>5134</th>\n",
              "      <td>Female</td>\n",
              "      <td>23.0</td>\n",
              "      <td>28.3</td>\n",
              "    </tr>\n",
              "  </tbody>\n",
              "</table>\n",
              "<p>5135 rows × 3 columns</p>\n",
              "</div>"
            ],
            "text/plain": [
              "      gender   age   bmi\n",
              "0       Male  67.0  36.6\n",
              "1     Female  61.0   NaN\n",
              "2       Male  80.0  32.5\n",
              "3     Female  49.0  34.4\n",
              "4     female  79.0  24.0\n",
              "...      ...   ...   ...\n",
              "5130  Female  57.0  25.8\n",
              "5131  Female  37.0  25.1\n",
              "5132  Female  27.0  41.6\n",
              "5133  Female  48.0  31.2\n",
              "5134  Female  23.0  28.3\n",
              "\n",
              "[5135 rows x 3 columns]"
            ]
          },
          "execution_count": 630,
          "metadata": {},
          "output_type": "execute_result"
        }
      ],
      "source": [
        "## write your code here\n",
        "df[['gender','age','bmi']]"
      ]
    },
    {
      "cell_type": "markdown",
      "metadata": {
        "id": "Na9-3HaAH-T2"
      },
      "source": [
        "## How to select the 7th row of the pandas dataframe?\n"
      ]
    },
    {
      "cell_type": "code",
      "execution_count": 631,
      "metadata": {
        "id": "DxKWEAGaH2FZ"
      },
      "outputs": [
        {
          "data": {
            "text/plain": [
              "id                          53882\n",
              "gender                       Male\n",
              "age                          74.0\n",
              "height_in_m               1.88976\n",
              "weight_in_kg            97.850684\n",
              "avg_glucose_level           70.09\n",
              "bmi                          27.4\n",
              "smoking_status       never smoked\n",
              "hypertension                    1\n",
              "heart_disease                   1\n",
              "ever_married                  Yes\n",
              "work_type                 Private\n",
              "Residence_type              Rural\n",
              "stroke                          1\n",
              "Name: 6, dtype: object"
            ]
          },
          "execution_count": 631,
          "metadata": {},
          "output_type": "execute_result"
        }
      ],
      "source": [
        "## write your code here\n",
        "df.iloc[6,:]"
      ]
    },
    {
      "cell_type": "markdown",
      "metadata": {
        "id": "SWKXH7e0IHVF"
      },
      "source": [
        "## How to select the 4th column from the pandas dataframe?\n"
      ]
    },
    {
      "cell_type": "code",
      "execution_count": 632,
      "metadata": {
        "id": "18TwG_-gICUV"
      },
      "outputs": [
        {
          "data": {
            "text/plain": [
              "0       1.82880\n",
              "1       1.64592\n",
              "2       1.79832\n",
              "3       1.92024\n",
              "4       1.85928\n",
              "         ...   \n",
              "5130    1.67640\n",
              "5131    1.92024\n",
              "5132    1.82880\n",
              "5133    1.58496\n",
              "5134    1.64592\n",
              "Name: height_in_m, Length: 5135, dtype: float64"
            ]
          },
          "execution_count": 632,
          "metadata": {},
          "output_type": "execute_result"
        }
      ],
      "source": [
        "## write your code here\n",
        "df.iloc[:,3]"
      ]
    },
    {
      "cell_type": "markdown",
      "metadata": {
        "id": "2mMuMgLRIbek"
      },
      "source": [
        "## How to select 20th to 30th row and 3rd to 7th column in pandas dataframe?"
      ]
    },
    {
      "cell_type": "code",
      "execution_count": 633,
      "metadata": {
        "id": "M6MQ0GBAIPet"
      },
      "outputs": [
        {
          "data": {
            "text/html": [
              "<div>\n",
              "<style scoped>\n",
              "    .dataframe tbody tr th:only-of-type {\n",
              "        vertical-align: middle;\n",
              "    }\n",
              "\n",
              "    .dataframe tbody tr th {\n",
              "        vertical-align: top;\n",
              "    }\n",
              "\n",
              "    .dataframe thead th {\n",
              "        text-align: right;\n",
              "    }\n",
              "</style>\n",
              "<table border=\"1\" class=\"dataframe\">\n",
              "  <thead>\n",
              "    <tr style=\"text-align: right;\">\n",
              "      <th></th>\n",
              "      <th>age</th>\n",
              "      <th>height_in_m</th>\n",
              "      <th>weight_in_kg</th>\n",
              "      <th>avg_glucose_level</th>\n",
              "      <th>bmi</th>\n",
              "    </tr>\n",
              "  </thead>\n",
              "  <tbody>\n",
              "    <tr>\n",
              "      <th>19</th>\n",
              "      <td>57.0</td>\n",
              "      <td>1.85928</td>\n",
              "      <td>NaN</td>\n",
              "      <td>169.35</td>\n",
              "      <td>NaN</td>\n",
              "    </tr>\n",
              "    <tr>\n",
              "      <th>20</th>\n",
              "      <td>71.0</td>\n",
              "      <td>1.85928</td>\n",
              "      <td>77.435055</td>\n",
              "      <td>169.35</td>\n",
              "      <td>22.4</td>\n",
              "    </tr>\n",
              "    <tr>\n",
              "      <th>21</th>\n",
              "      <td>52.0</td>\n",
              "      <td>1.95072</td>\n",
              "      <td>186.079587</td>\n",
              "      <td>169.35</td>\n",
              "      <td>48.9</td>\n",
              "    </tr>\n",
              "    <tr>\n",
              "      <th>22</th>\n",
              "      <td>79.0</td>\n",
              "      <td>1.55448</td>\n",
              "      <td>64.276455</td>\n",
              "      <td>169.35</td>\n",
              "      <td>26.6</td>\n",
              "    </tr>\n",
              "    <tr>\n",
              "      <th>23</th>\n",
              "      <td>82.0</td>\n",
              "      <td>1.55448</td>\n",
              "      <td>78.533262</td>\n",
              "      <td>169.35</td>\n",
              "      <td>32.5</td>\n",
              "    </tr>\n",
              "    <tr>\n",
              "      <th>24</th>\n",
              "      <td>71.0</td>\n",
              "      <td>1.92024</td>\n",
              "      <td>100.295149</td>\n",
              "      <td>102.87</td>\n",
              "      <td>27.2</td>\n",
              "    </tr>\n",
              "    <tr>\n",
              "      <th>25</th>\n",
              "      <td>80.0</td>\n",
              "      <td>1.95072</td>\n",
              "      <td>89.424750</td>\n",
              "      <td>104.12</td>\n",
              "      <td>23.5</td>\n",
              "    </tr>\n",
              "    <tr>\n",
              "      <th>26</th>\n",
              "      <td>65.0</td>\n",
              "      <td>1.88976</td>\n",
              "      <td>100.707639</td>\n",
              "      <td>100.98</td>\n",
              "      <td>28.2</td>\n",
              "    </tr>\n",
              "    <tr>\n",
              "      <th>27</th>\n",
              "      <td>58.0</td>\n",
              "      <td>1.64592</td>\n",
              "      <td>NaN</td>\n",
              "      <td>169.35</td>\n",
              "      <td>NaN</td>\n",
              "    </tr>\n",
              "    <tr>\n",
              "      <th>28</th>\n",
              "      <td>69.0</td>\n",
              "      <td>1.88976</td>\n",
              "      <td>101.064758</td>\n",
              "      <td>169.35</td>\n",
              "      <td>28.3</td>\n",
              "    </tr>\n",
              "    <tr>\n",
              "      <th>29</th>\n",
              "      <td>59.0</td>\n",
              "      <td>1.61544</td>\n",
              "      <td>NaN</td>\n",
              "      <td>169.35</td>\n",
              "      <td>NaN</td>\n",
              "    </tr>\n",
              "  </tbody>\n",
              "</table>\n",
              "</div>"
            ],
            "text/plain": [
              "     age  height_in_m  weight_in_kg  avg_glucose_level   bmi\n",
              "19  57.0      1.85928           NaN             169.35   NaN\n",
              "20  71.0      1.85928     77.435055             169.35  22.4\n",
              "21  52.0      1.95072    186.079587             169.35  48.9\n",
              "22  79.0      1.55448     64.276455             169.35  26.6\n",
              "23  82.0      1.55448     78.533262             169.35  32.5\n",
              "24  71.0      1.92024    100.295149             102.87  27.2\n",
              "25  80.0      1.95072     89.424750             104.12  23.5\n",
              "26  65.0      1.88976    100.707639             100.98  28.2\n",
              "27  58.0      1.64592           NaN             169.35   NaN\n",
              "28  69.0      1.88976    101.064758             169.35  28.3\n",
              "29  59.0      1.61544           NaN             169.35   NaN"
            ]
          },
          "execution_count": 633,
          "metadata": {},
          "output_type": "execute_result"
        }
      ],
      "source": [
        "## write your code here\n",
        "df.iloc[19:30,2:7]"
      ]
    },
    {
      "cell_type": "markdown",
      "metadata": {
        "id": "mOYlOO6IIpvf"
      },
      "source": [
        "## How to select 3rd and 100th row & 4th and 10th column in a pandas dataframe?"
      ]
    },
    {
      "cell_type": "code",
      "execution_count": 634,
      "metadata": {
        "id": "RZBxJJuaIe5k"
      },
      "outputs": [
        {
          "data": {
            "text/html": [
              "<div>\n",
              "<style scoped>\n",
              "    .dataframe tbody tr th:only-of-type {\n",
              "        vertical-align: middle;\n",
              "    }\n",
              "\n",
              "    .dataframe tbody tr th {\n",
              "        vertical-align: top;\n",
              "    }\n",
              "\n",
              "    .dataframe thead th {\n",
              "        text-align: right;\n",
              "    }\n",
              "</style>\n",
              "<table border=\"1\" class=\"dataframe\">\n",
              "  <thead>\n",
              "    <tr style=\"text-align: right;\">\n",
              "      <th></th>\n",
              "      <th>height_in_m</th>\n",
              "      <th>heart_disease</th>\n",
              "    </tr>\n",
              "  </thead>\n",
              "  <tbody>\n",
              "    <tr>\n",
              "      <th>2</th>\n",
              "      <td>1.79832</td>\n",
              "      <td>1</td>\n",
              "    </tr>\n",
              "    <tr>\n",
              "      <th>99</th>\n",
              "      <td>1.92024</td>\n",
              "      <td>0</td>\n",
              "    </tr>\n",
              "  </tbody>\n",
              "</table>\n",
              "</div>"
            ],
            "text/plain": [
              "    height_in_m  heart_disease\n",
              "2       1.79832              1\n",
              "99      1.92024              0"
            ]
          },
          "execution_count": 634,
          "metadata": {},
          "output_type": "execute_result"
        }
      ],
      "source": [
        "## write your code here\n",
        "df.iloc[[2,99],[3,9]]"
      ]
    },
    {
      "cell_type": "markdown",
      "metadata": {
        "id": "qJDMEk3XJBKL"
      },
      "source": [
        "## Select only those rows with gender 'Male'"
      ]
    },
    {
      "cell_type": "code",
      "execution_count": 635,
      "metadata": {
        "id": "Onnpibs2I0gm"
      },
      "outputs": [
        {
          "data": {
            "text/html": [
              "<div>\n",
              "<style scoped>\n",
              "    .dataframe tbody tr th:only-of-type {\n",
              "        vertical-align: middle;\n",
              "    }\n",
              "\n",
              "    .dataframe tbody tr th {\n",
              "        vertical-align: top;\n",
              "    }\n",
              "\n",
              "    .dataframe thead th {\n",
              "        text-align: right;\n",
              "    }\n",
              "</style>\n",
              "<table border=\"1\" class=\"dataframe\">\n",
              "  <thead>\n",
              "    <tr style=\"text-align: right;\">\n",
              "      <th></th>\n",
              "      <th>id</th>\n",
              "      <th>gender</th>\n",
              "      <th>age</th>\n",
              "      <th>height_in_m</th>\n",
              "      <th>weight_in_kg</th>\n",
              "      <th>avg_glucose_level</th>\n",
              "      <th>bmi</th>\n",
              "      <th>smoking_status</th>\n",
              "      <th>hypertension</th>\n",
              "      <th>heart_disease</th>\n",
              "      <th>ever_married</th>\n",
              "      <th>work_type</th>\n",
              "      <th>Residence_type</th>\n",
              "      <th>stroke</th>\n",
              "    </tr>\n",
              "  </thead>\n",
              "  <tbody>\n",
              "    <tr>\n",
              "      <th>0</th>\n",
              "      <td>9046</td>\n",
              "      <td>Male</td>\n",
              "      <td>67.0</td>\n",
              "      <td>1.82880</td>\n",
              "      <td>122.409046</td>\n",
              "      <td>169.35</td>\n",
              "      <td>36.6</td>\n",
              "      <td>formerly smoked</td>\n",
              "      <td>0</td>\n",
              "      <td>1</td>\n",
              "      <td>Yes</td>\n",
              "      <td>Private</td>\n",
              "      <td>Urban</td>\n",
              "      <td>1</td>\n",
              "    </tr>\n",
              "    <tr>\n",
              "      <th>2</th>\n",
              "      <td>31112</td>\n",
              "      <td>Male</td>\n",
              "      <td>80.0</td>\n",
              "      <td>1.79832</td>\n",
              "      <td>105.103532</td>\n",
              "      <td>105.92</td>\n",
              "      <td>32.5</td>\n",
              "      <td>never smoked</td>\n",
              "      <td>0</td>\n",
              "      <td>1</td>\n",
              "      <td>Yes</td>\n",
              "      <td>Private</td>\n",
              "      <td>Rural</td>\n",
              "      <td>1</td>\n",
              "    </tr>\n",
              "    <tr>\n",
              "      <th>5</th>\n",
              "      <td>56669</td>\n",
              "      <td>Male</td>\n",
              "      <td>81.0</td>\n",
              "      <td>1.79832</td>\n",
              "      <td>93.784690</td>\n",
              "      <td>169.35</td>\n",
              "      <td>29.0</td>\n",
              "      <td>formerly smoked</td>\n",
              "      <td>0</td>\n",
              "      <td>0</td>\n",
              "      <td>Yes</td>\n",
              "      <td>Private</td>\n",
              "      <td>Urban</td>\n",
              "      <td>1</td>\n",
              "    </tr>\n",
              "    <tr>\n",
              "      <th>6</th>\n",
              "      <td>53882</td>\n",
              "      <td>Male</td>\n",
              "      <td>74.0</td>\n",
              "      <td>1.88976</td>\n",
              "      <td>97.850684</td>\n",
              "      <td>70.09</td>\n",
              "      <td>27.4</td>\n",
              "      <td>never smoked</td>\n",
              "      <td>1</td>\n",
              "      <td>1</td>\n",
              "      <td>Yes</td>\n",
              "      <td>Private</td>\n",
              "      <td>Rural</td>\n",
              "      <td>1</td>\n",
              "    </tr>\n",
              "    <tr>\n",
              "      <th>13</th>\n",
              "      <td>8213</td>\n",
              "      <td>Male</td>\n",
              "      <td>78.0</td>\n",
              "      <td>1.52400</td>\n",
              "      <td>NaN</td>\n",
              "      <td>169.35</td>\n",
              "      <td>NaN</td>\n",
              "      <td>Unknown</td>\n",
              "      <td>0</td>\n",
              "      <td>1</td>\n",
              "      <td>Yes</td>\n",
              "      <td>Private</td>\n",
              "      <td>Urban</td>\n",
              "      <td>1</td>\n",
              "    </tr>\n",
              "    <tr>\n",
              "      <th>...</th>\n",
              "      <td>...</td>\n",
              "      <td>...</td>\n",
              "      <td>...</td>\n",
              "      <td>...</td>\n",
              "      <td>...</td>\n",
              "      <td>...</td>\n",
              "      <td>...</td>\n",
              "      <td>...</td>\n",
              "      <td>...</td>\n",
              "      <td>...</td>\n",
              "      <td>...</td>\n",
              "      <td>...</td>\n",
              "      <td>...</td>\n",
              "      <td>...</td>\n",
              "    </tr>\n",
              "    <tr>\n",
              "      <th>5119</th>\n",
              "      <td>26242</td>\n",
              "      <td>Male</td>\n",
              "      <td>6.0</td>\n",
              "      <td>1.55448</td>\n",
              "      <td>48.328161</td>\n",
              "      <td>83.28</td>\n",
              "      <td>20.0</td>\n",
              "      <td>Unknown</td>\n",
              "      <td>0</td>\n",
              "      <td>0</td>\n",
              "      <td>NaN</td>\n",
              "      <td>children</td>\n",
              "      <td>Urban</td>\n",
              "      <td>0</td>\n",
              "    </tr>\n",
              "    <tr>\n",
              "      <th>5121</th>\n",
              "      <td>20973</td>\n",
              "      <td>Male</td>\n",
              "      <td>45.0</td>\n",
              "      <td>1.73736</td>\n",
              "      <td>114.398109</td>\n",
              "      <td>86.99</td>\n",
              "      <td>37.9</td>\n",
              "      <td>never smoked</td>\n",
              "      <td>0</td>\n",
              "      <td>0</td>\n",
              "      <td>Yes</td>\n",
              "      <td>Govt_job</td>\n",
              "      <td>Rural</td>\n",
              "      <td>0</td>\n",
              "    </tr>\n",
              "    <tr>\n",
              "      <th>5122</th>\n",
              "      <td>62793</td>\n",
              "      <td>Male</td>\n",
              "      <td>37.0</td>\n",
              "      <td>1.95072</td>\n",
              "      <td>95.893775</td>\n",
              "      <td>79.56</td>\n",
              "      <td>25.2</td>\n",
              "      <td>never smoked</td>\n",
              "      <td>0</td>\n",
              "      <td>0</td>\n",
              "      <td>Yes</td>\n",
              "      <td>Private</td>\n",
              "      <td>Urban</td>\n",
              "      <td>0</td>\n",
              "    </tr>\n",
              "    <tr>\n",
              "      <th>5125</th>\n",
              "      <td>64520</td>\n",
              "      <td>Male</td>\n",
              "      <td>68.0</td>\n",
              "      <td>1.61544</td>\n",
              "      <td>106.473573</td>\n",
              "      <td>91.68</td>\n",
              "      <td>40.8</td>\n",
              "      <td>Unknown</td>\n",
              "      <td>0</td>\n",
              "      <td>0</td>\n",
              "      <td>Yes</td>\n",
              "      <td>Self-employed</td>\n",
              "      <td>Urban</td>\n",
              "      <td>0</td>\n",
              "    </tr>\n",
              "    <tr>\n",
              "      <th>5128</th>\n",
              "      <td>35295</td>\n",
              "      <td>Male</td>\n",
              "      <td>69.0</td>\n",
              "      <td>1.95072</td>\n",
              "      <td>103.884923</td>\n",
              "      <td>65.08</td>\n",
              "      <td>27.3</td>\n",
              "      <td>formerly smoked</td>\n",
              "      <td>0</td>\n",
              "      <td>0</td>\n",
              "      <td>Yes</td>\n",
              "      <td>Private</td>\n",
              "      <td>Urban</td>\n",
              "      <td>0</td>\n",
              "    </tr>\n",
              "  </tbody>\n",
              "</table>\n",
              "<p>2072 rows × 14 columns</p>\n",
              "</div>"
            ],
            "text/plain": [
              "         id gender   age  height_in_m  weight_in_kg  avg_glucose_level   bmi  \\\n",
              "0      9046   Male  67.0      1.82880    122.409046             169.35  36.6   \n",
              "2     31112   Male  80.0      1.79832    105.103532             105.92  32.5   \n",
              "5     56669   Male  81.0      1.79832     93.784690             169.35  29.0   \n",
              "6     53882   Male  74.0      1.88976     97.850684              70.09  27.4   \n",
              "13     8213   Male  78.0      1.52400           NaN             169.35   NaN   \n",
              "...     ...    ...   ...          ...           ...                ...   ...   \n",
              "5119  26242   Male   6.0      1.55448     48.328161              83.28  20.0   \n",
              "5121  20973   Male  45.0      1.73736    114.398109              86.99  37.9   \n",
              "5122  62793   Male  37.0      1.95072     95.893775              79.56  25.2   \n",
              "5125  64520   Male  68.0      1.61544    106.473573              91.68  40.8   \n",
              "5128  35295   Male  69.0      1.95072    103.884923              65.08  27.3   \n",
              "\n",
              "       smoking_status  hypertension  heart_disease ever_married  \\\n",
              "0     formerly smoked             0              1          Yes   \n",
              "2        never smoked             0              1          Yes   \n",
              "5     formerly smoked             0              0          Yes   \n",
              "6        never smoked             1              1          Yes   \n",
              "13            Unknown             0              1          Yes   \n",
              "...               ...           ...            ...          ...   \n",
              "5119          Unknown             0              0          NaN   \n",
              "5121     never smoked             0              0          Yes   \n",
              "5122     never smoked             0              0          Yes   \n",
              "5125          Unknown             0              0          Yes   \n",
              "5128  formerly smoked             0              0          Yes   \n",
              "\n",
              "          work_type Residence_type  stroke  \n",
              "0           Private          Urban       1  \n",
              "2           Private          Rural       1  \n",
              "5           Private          Urban       1  \n",
              "6           Private          Rural       1  \n",
              "13          Private          Urban       1  \n",
              "...             ...            ...     ...  \n",
              "5119       children          Urban       0  \n",
              "5121       Govt_job          Rural       0  \n",
              "5122        Private          Urban       0  \n",
              "5125  Self-employed          Urban       0  \n",
              "5128        Private          Urban       0  \n",
              "\n",
              "[2072 rows x 14 columns]"
            ]
          },
          "execution_count": 635,
          "metadata": {},
          "output_type": "execute_result"
        }
      ],
      "source": [
        "## write your code here\n",
        "df.loc[df['gender']=='Male']\n"
      ]
    },
    {
      "cell_type": "markdown",
      "metadata": {
        "id": "l8shY_roJbQr"
      },
      "source": [
        "## Select all those rows which have avg_glucose_level greater than 100 and columns gender, age, bmi and avg_glucose_level"
      ]
    },
    {
      "cell_type": "code",
      "execution_count": 636,
      "metadata": {
        "id": "vBmeU7h7JIk6"
      },
      "outputs": [
        {
          "data": {
            "text/html": [
              "<div>\n",
              "<style scoped>\n",
              "    .dataframe tbody tr th:only-of-type {\n",
              "        vertical-align: middle;\n",
              "    }\n",
              "\n",
              "    .dataframe tbody tr th {\n",
              "        vertical-align: top;\n",
              "    }\n",
              "\n",
              "    .dataframe thead th {\n",
              "        text-align: right;\n",
              "    }\n",
              "</style>\n",
              "<table border=\"1\" class=\"dataframe\">\n",
              "  <thead>\n",
              "    <tr style=\"text-align: right;\">\n",
              "      <th></th>\n",
              "      <th>gender</th>\n",
              "      <th>age</th>\n",
              "      <th>bmi</th>\n",
              "      <th>avg_glucose_level</th>\n",
              "    </tr>\n",
              "  </thead>\n",
              "  <tbody>\n",
              "    <tr>\n",
              "      <th>0</th>\n",
              "      <td>Male</td>\n",
              "      <td>67.0</td>\n",
              "      <td>36.6</td>\n",
              "      <td>169.35</td>\n",
              "    </tr>\n",
              "    <tr>\n",
              "      <th>1</th>\n",
              "      <td>Female</td>\n",
              "      <td>61.0</td>\n",
              "      <td>NaN</td>\n",
              "      <td>169.35</td>\n",
              "    </tr>\n",
              "    <tr>\n",
              "      <th>2</th>\n",
              "      <td>Male</td>\n",
              "      <td>80.0</td>\n",
              "      <td>32.5</td>\n",
              "      <td>105.92</td>\n",
              "    </tr>\n",
              "    <tr>\n",
              "      <th>3</th>\n",
              "      <td>Female</td>\n",
              "      <td>49.0</td>\n",
              "      <td>34.4</td>\n",
              "      <td>169.35</td>\n",
              "    </tr>\n",
              "    <tr>\n",
              "      <th>4</th>\n",
              "      <td>female</td>\n",
              "      <td>79.0</td>\n",
              "      <td>24.0</td>\n",
              "      <td>169.35</td>\n",
              "    </tr>\n",
              "    <tr>\n",
              "      <th>...</th>\n",
              "      <td>...</td>\n",
              "      <td>...</td>\n",
              "      <td>...</td>\n",
              "      <td>...</td>\n",
              "    </tr>\n",
              "    <tr>\n",
              "      <th>5110</th>\n",
              "      <td>Female</td>\n",
              "      <td>39.0</td>\n",
              "      <td>26.6</td>\n",
              "      <td>102.51</td>\n",
              "    </tr>\n",
              "    <tr>\n",
              "      <th>5123</th>\n",
              "      <td>Female</td>\n",
              "      <td>18.0</td>\n",
              "      <td>23.2</td>\n",
              "      <td>112.33</td>\n",
              "    </tr>\n",
              "    <tr>\n",
              "      <th>5126</th>\n",
              "      <td>Female</td>\n",
              "      <td>36.0</td>\n",
              "      <td>23.2</td>\n",
              "      <td>100.33</td>\n",
              "    </tr>\n",
              "    <tr>\n",
              "      <th>5130</th>\n",
              "      <td>Female</td>\n",
              "      <td>57.0</td>\n",
              "      <td>25.8</td>\n",
              "      <td>169.97</td>\n",
              "    </tr>\n",
              "    <tr>\n",
              "      <th>5131</th>\n",
              "      <td>Female</td>\n",
              "      <td>37.0</td>\n",
              "      <td>25.1</td>\n",
              "      <td>118.41</td>\n",
              "    </tr>\n",
              "  </tbody>\n",
              "</table>\n",
              "<p>1984 rows × 4 columns</p>\n",
              "</div>"
            ],
            "text/plain": [
              "      gender   age   bmi  avg_glucose_level\n",
              "0       Male  67.0  36.6             169.35\n",
              "1     Female  61.0   NaN             169.35\n",
              "2       Male  80.0  32.5             105.92\n",
              "3     Female  49.0  34.4             169.35\n",
              "4     female  79.0  24.0             169.35\n",
              "...      ...   ...   ...                ...\n",
              "5110  Female  39.0  26.6             102.51\n",
              "5123  Female  18.0  23.2             112.33\n",
              "5126  Female  36.0  23.2             100.33\n",
              "5130  Female  57.0  25.8             169.97\n",
              "5131  Female  37.0  25.1             118.41\n",
              "\n",
              "[1984 rows x 4 columns]"
            ]
          },
          "execution_count": 636,
          "metadata": {},
          "output_type": "execute_result"
        }
      ],
      "source": [
        "## write your code here\n",
        "df.loc[df['avg_glucose_level']>100,['gender','age','bmi','avg_glucose_level']]"
      ]
    },
    {
      "cell_type": "markdown",
      "metadata": {
        "id": "ZPwD6WERJxfG"
      },
      "source": [
        "## Select all those Females who are greater than 50 years old?"
      ]
    },
    {
      "cell_type": "code",
      "execution_count": 637,
      "metadata": {
        "id": "uXYoVDsvJk0c"
      },
      "outputs": [
        {
          "data": {
            "text/html": [
              "<div>\n",
              "<style scoped>\n",
              "    .dataframe tbody tr th:only-of-type {\n",
              "        vertical-align: middle;\n",
              "    }\n",
              "\n",
              "    .dataframe tbody tr th {\n",
              "        vertical-align: top;\n",
              "    }\n",
              "\n",
              "    .dataframe thead th {\n",
              "        text-align: right;\n",
              "    }\n",
              "</style>\n",
              "<table border=\"1\" class=\"dataframe\">\n",
              "  <thead>\n",
              "    <tr style=\"text-align: right;\">\n",
              "      <th></th>\n",
              "      <th>id</th>\n",
              "      <th>gender</th>\n",
              "      <th>age</th>\n",
              "      <th>height_in_m</th>\n",
              "      <th>weight_in_kg</th>\n",
              "      <th>avg_glucose_level</th>\n",
              "      <th>bmi</th>\n",
              "      <th>smoking_status</th>\n",
              "      <th>hypertension</th>\n",
              "      <th>heart_disease</th>\n",
              "      <th>ever_married</th>\n",
              "      <th>work_type</th>\n",
              "      <th>Residence_type</th>\n",
              "      <th>stroke</th>\n",
              "    </tr>\n",
              "  </thead>\n",
              "  <tbody>\n",
              "    <tr>\n",
              "      <th>1</th>\n",
              "      <td>51676</td>\n",
              "      <td>Female</td>\n",
              "      <td>61.0</td>\n",
              "      <td>1.64592</td>\n",
              "      <td>NaN</td>\n",
              "      <td>169.35</td>\n",
              "      <td>NaN</td>\n",
              "      <td>never smoked</td>\n",
              "      <td>0</td>\n",
              "      <td>0</td>\n",
              "      <td>Yes</td>\n",
              "      <td>Self-employed</td>\n",
              "      <td>Rural</td>\n",
              "      <td>1</td>\n",
              "    </tr>\n",
              "    <tr>\n",
              "      <th>7</th>\n",
              "      <td>10434</td>\n",
              "      <td>Female</td>\n",
              "      <td>69.0</td>\n",
              "      <td>1.61544</td>\n",
              "      <td>59.499938</td>\n",
              "      <td>94.39</td>\n",
              "      <td>22.8</td>\n",
              "      <td>never smoked</td>\n",
              "      <td>0</td>\n",
              "      <td>0</td>\n",
              "      <td>No</td>\n",
              "      <td>Private</td>\n",
              "      <td>Urban</td>\n",
              "      <td>1</td>\n",
              "    </tr>\n",
              "    <tr>\n",
              "      <th>8</th>\n",
              "      <td>27419</td>\n",
              "      <td>Female</td>\n",
              "      <td>59.0</td>\n",
              "      <td>1.85928</td>\n",
              "      <td>NaN</td>\n",
              "      <td>76.15</td>\n",
              "      <td>NaN</td>\n",
              "      <td>Unknown</td>\n",
              "      <td>0</td>\n",
              "      <td>0</td>\n",
              "      <td>Yes</td>\n",
              "      <td>Private</td>\n",
              "      <td>Rural</td>\n",
              "      <td>1</td>\n",
              "    </tr>\n",
              "    <tr>\n",
              "      <th>9</th>\n",
              "      <td>60491</td>\n",
              "      <td>Female</td>\n",
              "      <td>78.0</td>\n",
              "      <td>1.98120</td>\n",
              "      <td>94.988713</td>\n",
              "      <td>58.57</td>\n",
              "      <td>24.2</td>\n",
              "      <td>Unknown</td>\n",
              "      <td>0</td>\n",
              "      <td>0</td>\n",
              "      <td>Yes</td>\n",
              "      <td>Private</td>\n",
              "      <td>Urban</td>\n",
              "      <td>1</td>\n",
              "    </tr>\n",
              "    <tr>\n",
              "      <th>10</th>\n",
              "      <td>12109</td>\n",
              "      <td>Female</td>\n",
              "      <td>81.0</td>\n",
              "      <td>1.95072</td>\n",
              "      <td>113.017663</td>\n",
              "      <td>80.43</td>\n",
              "      <td>29.7</td>\n",
              "      <td>never smoked</td>\n",
              "      <td>1</td>\n",
              "      <td>0</td>\n",
              "      <td>Yes</td>\n",
              "      <td>Private</td>\n",
              "      <td>Rural</td>\n",
              "      <td>1</td>\n",
              "    </tr>\n",
              "    <tr>\n",
              "      <th>...</th>\n",
              "      <td>...</td>\n",
              "      <td>...</td>\n",
              "      <td>...</td>\n",
              "      <td>...</td>\n",
              "      <td>...</td>\n",
              "      <td>...</td>\n",
              "      <td>...</td>\n",
              "      <td>...</td>\n",
              "      <td>...</td>\n",
              "      <td>...</td>\n",
              "      <td>...</td>\n",
              "      <td>...</td>\n",
              "      <td>...</td>\n",
              "      <td>...</td>\n",
              "    </tr>\n",
              "    <tr>\n",
              "      <th>5106</th>\n",
              "      <td>44873</td>\n",
              "      <td>Female</td>\n",
              "      <td>81.0</td>\n",
              "      <td>1.88976</td>\n",
              "      <td>142.847714</td>\n",
              "      <td>125.20</td>\n",
              "      <td>40.0</td>\n",
              "      <td>never smoked</td>\n",
              "      <td>0</td>\n",
              "      <td>0</td>\n",
              "      <td>Yes</td>\n",
              "      <td>Self-employed</td>\n",
              "      <td>Urban</td>\n",
              "      <td>0</td>\n",
              "    </tr>\n",
              "    <tr>\n",
              "      <th>5115</th>\n",
              "      <td>9160</td>\n",
              "      <td>Female</td>\n",
              "      <td>80.0</td>\n",
              "      <td>1.73736</td>\n",
              "      <td>78.478914</td>\n",
              "      <td>90.77</td>\n",
              "      <td>26.0</td>\n",
              "      <td>never smoked</td>\n",
              "      <td>1</td>\n",
              "      <td>0</td>\n",
              "      <td>Yes</td>\n",
              "      <td>Private</td>\n",
              "      <td>Urban</td>\n",
              "      <td>0</td>\n",
              "    </tr>\n",
              "    <tr>\n",
              "      <th>5124</th>\n",
              "      <td>27705</td>\n",
              "      <td>Female</td>\n",
              "      <td>82.0</td>\n",
              "      <td>1.79832</td>\n",
              "      <td>105.103532</td>\n",
              "      <td>88.60</td>\n",
              "      <td>32.5</td>\n",
              "      <td>Unknown</td>\n",
              "      <td>0</td>\n",
              "      <td>1</td>\n",
              "      <td>Yes</td>\n",
              "      <td>Self-employed</td>\n",
              "      <td>Rural</td>\n",
              "      <td>0</td>\n",
              "    </tr>\n",
              "    <tr>\n",
              "      <th>5127</th>\n",
              "      <td>23989</td>\n",
              "      <td>Female</td>\n",
              "      <td>62.0</td>\n",
              "      <td>1.73736</td>\n",
              "      <td>98.400484</td>\n",
              "      <td>86.40</td>\n",
              "      <td>32.6</td>\n",
              "      <td>smokes</td>\n",
              "      <td>0</td>\n",
              "      <td>0</td>\n",
              "      <td>Yes</td>\n",
              "      <td>Self-employed</td>\n",
              "      <td>Urban</td>\n",
              "      <td>0</td>\n",
              "    </tr>\n",
              "    <tr>\n",
              "      <th>5130</th>\n",
              "      <td>46373</td>\n",
              "      <td>Female</td>\n",
              "      <td>57.0</td>\n",
              "      <td>1.67640</td>\n",
              "      <td>72.506178</td>\n",
              "      <td>169.97</td>\n",
              "      <td>25.8</td>\n",
              "      <td>never smoked</td>\n",
              "      <td>0</td>\n",
              "      <td>0</td>\n",
              "      <td>Yes</td>\n",
              "      <td>Private</td>\n",
              "      <td>Rural</td>\n",
              "      <td>0</td>\n",
              "    </tr>\n",
              "  </tbody>\n",
              "</table>\n",
              "<p>1203 rows × 14 columns</p>\n",
              "</div>"
            ],
            "text/plain": [
              "         id  gender   age  height_in_m  weight_in_kg  avg_glucose_level   bmi  \\\n",
              "1     51676  Female  61.0      1.64592           NaN             169.35   NaN   \n",
              "7     10434  Female  69.0      1.61544     59.499938              94.39  22.8   \n",
              "8     27419  Female  59.0      1.85928           NaN              76.15   NaN   \n",
              "9     60491  Female  78.0      1.98120     94.988713              58.57  24.2   \n",
              "10    12109  Female  81.0      1.95072    113.017663              80.43  29.7   \n",
              "...     ...     ...   ...          ...           ...                ...   ...   \n",
              "5106  44873  Female  81.0      1.88976    142.847714             125.20  40.0   \n",
              "5115   9160  Female  80.0      1.73736     78.478914              90.77  26.0   \n",
              "5124  27705  Female  82.0      1.79832    105.103532              88.60  32.5   \n",
              "5127  23989  Female  62.0      1.73736     98.400484              86.40  32.6   \n",
              "5130  46373  Female  57.0      1.67640     72.506178             169.97  25.8   \n",
              "\n",
              "     smoking_status  hypertension  heart_disease ever_married      work_type  \\\n",
              "1      never smoked             0              0          Yes  Self-employed   \n",
              "7      never smoked             0              0           No        Private   \n",
              "8           Unknown             0              0          Yes        Private   \n",
              "9           Unknown             0              0          Yes        Private   \n",
              "10     never smoked             1              0          Yes        Private   \n",
              "...             ...           ...            ...          ...            ...   \n",
              "5106   never smoked             0              0          Yes  Self-employed   \n",
              "5115   never smoked             1              0          Yes        Private   \n",
              "5124        Unknown             0              1          Yes  Self-employed   \n",
              "5127         smokes             0              0          Yes  Self-employed   \n",
              "5130   never smoked             0              0          Yes        Private   \n",
              "\n",
              "     Residence_type  stroke  \n",
              "1             Rural       1  \n",
              "7             Urban       1  \n",
              "8             Rural       1  \n",
              "9             Urban       1  \n",
              "10            Rural       1  \n",
              "...             ...     ...  \n",
              "5106          Urban       0  \n",
              "5115          Urban       0  \n",
              "5124          Rural       0  \n",
              "5127          Urban       0  \n",
              "5130          Rural       0  \n",
              "\n",
              "[1203 rows x 14 columns]"
            ]
          },
          "execution_count": 637,
          "metadata": {},
          "output_type": "execute_result"
        }
      ],
      "source": [
        "## write your code here\n",
        "df.loc[(df['gender']== 'Female') & \n",
        "       (df['age']>50)]"
      ]
    },
    {
      "cell_type": "code",
      "execution_count": 638,
      "metadata": {},
      "outputs": [
        {
          "data": {
            "text/html": [
              "<div>\n",
              "<style scoped>\n",
              "    .dataframe tbody tr th:only-of-type {\n",
              "        vertical-align: middle;\n",
              "    }\n",
              "\n",
              "    .dataframe tbody tr th {\n",
              "        vertical-align: top;\n",
              "    }\n",
              "\n",
              "    .dataframe thead th {\n",
              "        text-align: right;\n",
              "    }\n",
              "</style>\n",
              "<table border=\"1\" class=\"dataframe\">\n",
              "  <thead>\n",
              "    <tr style=\"text-align: right;\">\n",
              "      <th></th>\n",
              "      <th>id</th>\n",
              "      <th>gender</th>\n",
              "      <th>age</th>\n",
              "      <th>height_in_m</th>\n",
              "      <th>weight_in_kg</th>\n",
              "      <th>avg_glucose_level</th>\n",
              "      <th>bmi</th>\n",
              "      <th>smoking_status</th>\n",
              "      <th>hypertension</th>\n",
              "      <th>heart_disease</th>\n",
              "      <th>ever_married</th>\n",
              "      <th>work_type</th>\n",
              "      <th>Residence_type</th>\n",
              "      <th>stroke</th>\n",
              "    </tr>\n",
              "  </thead>\n",
              "  <tbody>\n",
              "    <tr>\n",
              "      <th>3</th>\n",
              "      <td>60182</td>\n",
              "      <td>Female</td>\n",
              "      <td>49.0</td>\n",
              "      <td>1.92024</td>\n",
              "      <td>126.843865</td>\n",
              "      <td>169.35</td>\n",
              "      <td>34.4</td>\n",
              "      <td>smokes</td>\n",
              "      <td>0</td>\n",
              "      <td>0</td>\n",
              "      <td>Yes</td>\n",
              "      <td>Private</td>\n",
              "      <td>Urban</td>\n",
              "      <td>1</td>\n",
              "    </tr>\n",
              "    <tr>\n",
              "      <th>11</th>\n",
              "      <td>12095</td>\n",
              "      <td>Female</td>\n",
              "      <td>61.0</td>\n",
              "      <td>1.64592</td>\n",
              "      <td>99.693137</td>\n",
              "      <td>120.46</td>\n",
              "      <td>36.8</td>\n",
              "      <td>smokes</td>\n",
              "      <td>0</td>\n",
              "      <td>1</td>\n",
              "      <td>Yes</td>\n",
              "      <td>Govt_job</td>\n",
              "      <td>Rural</td>\n",
              "      <td>1</td>\n",
              "    </tr>\n",
              "    <tr>\n",
              "      <th>12</th>\n",
              "      <td>12175</td>\n",
              "      <td>Female</td>\n",
              "      <td>54.0</td>\n",
              "      <td>1.88976</td>\n",
              "      <td>97.493565</td>\n",
              "      <td>104.51</td>\n",
              "      <td>27.3</td>\n",
              "      <td>smokes</td>\n",
              "      <td>0</td>\n",
              "      <td>0</td>\n",
              "      <td>Yes</td>\n",
              "      <td>Private</td>\n",
              "      <td>Urban</td>\n",
              "      <td>1</td>\n",
              "    </tr>\n",
              "    <tr>\n",
              "      <th>20</th>\n",
              "      <td>70630</td>\n",
              "      <td>Female</td>\n",
              "      <td>71.0</td>\n",
              "      <td>1.85928</td>\n",
              "      <td>77.435055</td>\n",
              "      <td>169.35</td>\n",
              "      <td>22.4</td>\n",
              "      <td>smokes</td>\n",
              "      <td>0</td>\n",
              "      <td>0</td>\n",
              "      <td>Yes</td>\n",
              "      <td>Govt_job</td>\n",
              "      <td>Rural</td>\n",
              "      <td>1</td>\n",
              "    </tr>\n",
              "    <tr>\n",
              "      <th>49</th>\n",
              "      <td>36338</td>\n",
              "      <td>Female</td>\n",
              "      <td>39.0</td>\n",
              "      <td>1.85928</td>\n",
              "      <td>135.511347</td>\n",
              "      <td>58.09</td>\n",
              "      <td>39.2</td>\n",
              "      <td>smokes</td>\n",
              "      <td>1</td>\n",
              "      <td>0</td>\n",
              "      <td>Yes</td>\n",
              "      <td>Private</td>\n",
              "      <td>Rural</td>\n",
              "      <td>1</td>\n",
              "    </tr>\n",
              "    <tr>\n",
              "      <th>...</th>\n",
              "      <td>...</td>\n",
              "      <td>...</td>\n",
              "      <td>...</td>\n",
              "      <td>...</td>\n",
              "      <td>...</td>\n",
              "      <td>...</td>\n",
              "      <td>...</td>\n",
              "      <td>...</td>\n",
              "      <td>...</td>\n",
              "      <td>...</td>\n",
              "      <td>...</td>\n",
              "      <td>...</td>\n",
              "      <td>...</td>\n",
              "      <td>...</td>\n",
              "    </tr>\n",
              "    <tr>\n",
              "      <th>5082</th>\n",
              "      <td>24552</td>\n",
              "      <td>Female</td>\n",
              "      <td>44.0</td>\n",
              "      <td>1.70688</td>\n",
              "      <td>109.253975</td>\n",
              "      <td>72.03</td>\n",
              "      <td>37.5</td>\n",
              "      <td>smokes</td>\n",
              "      <td>0</td>\n",
              "      <td>0</td>\n",
              "      <td>Yes</td>\n",
              "      <td>Private</td>\n",
              "      <td>Rural</td>\n",
              "      <td>0</td>\n",
              "    </tr>\n",
              "    <tr>\n",
              "      <th>5093</th>\n",
              "      <td>32235</td>\n",
              "      <td>Female</td>\n",
              "      <td>45.0</td>\n",
              "      <td>1.58496</td>\n",
              "      <td>NaN</td>\n",
              "      <td>95.02</td>\n",
              "      <td>NaN</td>\n",
              "      <td>smokes</td>\n",
              "      <td>1</td>\n",
              "      <td>0</td>\n",
              "      <td>Yes</td>\n",
              "      <td>Govt_job</td>\n",
              "      <td>Rural</td>\n",
              "      <td>0</td>\n",
              "    </tr>\n",
              "    <tr>\n",
              "      <th>5110</th>\n",
              "      <td>26605</td>\n",
              "      <td>Female</td>\n",
              "      <td>39.0</td>\n",
              "      <td>1.61544</td>\n",
              "      <td>69.416594</td>\n",
              "      <td>102.51</td>\n",
              "      <td>26.6</td>\n",
              "      <td>smokes</td>\n",
              "      <td>0</td>\n",
              "      <td>0</td>\n",
              "      <td>Yes</td>\n",
              "      <td>Private</td>\n",
              "      <td>Rural</td>\n",
              "      <td>0</td>\n",
              "    </tr>\n",
              "    <tr>\n",
              "      <th>5117</th>\n",
              "      <td>23633</td>\n",
              "      <td>Female</td>\n",
              "      <td>37.0</td>\n",
              "      <td>1.82880</td>\n",
              "      <td>140.803847</td>\n",
              "      <td>83.65</td>\n",
              "      <td>42.1</td>\n",
              "      <td>smokes</td>\n",
              "      <td>0</td>\n",
              "      <td>0</td>\n",
              "      <td>Yes</td>\n",
              "      <td>Private</td>\n",
              "      <td>Rural</td>\n",
              "      <td>0</td>\n",
              "    </tr>\n",
              "    <tr>\n",
              "      <th>5127</th>\n",
              "      <td>23989</td>\n",
              "      <td>Female</td>\n",
              "      <td>62.0</td>\n",
              "      <td>1.73736</td>\n",
              "      <td>98.400484</td>\n",
              "      <td>86.40</td>\n",
              "      <td>32.6</td>\n",
              "      <td>smokes</td>\n",
              "      <td>0</td>\n",
              "      <td>0</td>\n",
              "      <td>Yes</td>\n",
              "      <td>Self-employed</td>\n",
              "      <td>Urban</td>\n",
              "      <td>0</td>\n",
              "    </tr>\n",
              "  </tbody>\n",
              "</table>\n",
              "<p>446 rows × 14 columns</p>\n",
              "</div>"
            ],
            "text/plain": [
              "         id  gender   age  height_in_m  weight_in_kg  avg_glucose_level   bmi  \\\n",
              "3     60182  Female  49.0      1.92024    126.843865             169.35  34.4   \n",
              "11    12095  Female  61.0      1.64592     99.693137             120.46  36.8   \n",
              "12    12175  Female  54.0      1.88976     97.493565             104.51  27.3   \n",
              "20    70630  Female  71.0      1.85928     77.435055             169.35  22.4   \n",
              "49    36338  Female  39.0      1.85928    135.511347              58.09  39.2   \n",
              "...     ...     ...   ...          ...           ...                ...   ...   \n",
              "5082  24552  Female  44.0      1.70688    109.253975              72.03  37.5   \n",
              "5093  32235  Female  45.0      1.58496           NaN              95.02   NaN   \n",
              "5110  26605  Female  39.0      1.61544     69.416594             102.51  26.6   \n",
              "5117  23633  Female  37.0      1.82880    140.803847              83.65  42.1   \n",
              "5127  23989  Female  62.0      1.73736     98.400484              86.40  32.6   \n",
              "\n",
              "     smoking_status  hypertension  heart_disease ever_married      work_type  \\\n",
              "3            smokes             0              0          Yes        Private   \n",
              "11           smokes             0              1          Yes       Govt_job   \n",
              "12           smokes             0              0          Yes        Private   \n",
              "20           smokes             0              0          Yes       Govt_job   \n",
              "49           smokes             1              0          Yes        Private   \n",
              "...             ...           ...            ...          ...            ...   \n",
              "5082         smokes             0              0          Yes        Private   \n",
              "5093         smokes             1              0          Yes       Govt_job   \n",
              "5110         smokes             0              0          Yes        Private   \n",
              "5117         smokes             0              0          Yes        Private   \n",
              "5127         smokes             0              0          Yes  Self-employed   \n",
              "\n",
              "     Residence_type  stroke  \n",
              "3             Urban       1  \n",
              "11            Rural       1  \n",
              "12            Urban       1  \n",
              "20            Rural       1  \n",
              "49            Rural       1  \n",
              "...             ...     ...  \n",
              "5082          Rural       0  \n",
              "5093          Rural       0  \n",
              "5110          Rural       0  \n",
              "5117          Rural       0  \n",
              "5127          Urban       0  \n",
              "\n",
              "[446 rows x 14 columns]"
            ]
          },
          "execution_count": 638,
          "metadata": {},
          "output_type": "execute_result"
        }
      ],
      "source": [
        "df.loc[(df['gender']=='Female')&\n",
        "         (df['smoking_status'] == 'smokes') ]\n"
      ]
    },
    {
      "cell_type": "markdown",
      "metadata": {
        "id": "MoGtqDg-LDUQ"
      },
      "source": [
        "## Data Wrangling\n",
        "\n",
        "- Data Inspection\n",
        "  - Checking Duplicate Enties\n",
        "  - Checking Missing Values\n",
        "  - Checking standard format\n",
        "  - Checking data entry typos and errors\n",
        "- Data Cleaning\n",
        "  - Removing Duplicates\n",
        "  - Handling Missing Values\n",
        "  - Standardizing Formats\n",
        "  - Correcting Errors\n",
        "- Data Transformation\n",
        "  - Feature Engineering\n",
        "  - Normalization/Scaling\n",
        "  - One-Hot Encoding\n",
        "- Data Integration\n",
        "- Data Reduction\n",
        "- Data Formatting\n",
        "- Data Enrichment\n",
        "- Data Validation\n",
        "- Documentation\n",
        "- Exploratory Data Analysis (EDA)\n"
      ]
    },
    {
      "cell_type": "markdown",
      "metadata": {
        "id": "Tv59NmshLk9h"
      },
      "source": [
        "### Checking Duplicate Entries\n",
        "- Check if duplicate entries are present or not.\n",
        "- If present find how many of duplicate entries are there?"
      ]
    },
    {
      "cell_type": "code",
      "execution_count": 639,
      "metadata": {
        "id": "Lv4Gcme6KDXH"
      },
      "outputs": [
        {
          "name": "stdout",
          "output_type": "stream",
          "text": [
            "(25, 14)\n"
          ]
        }
      ],
      "source": [
        "## write your code here\n",
        "df1=df[df.duplicated()]\n",
        "print(df1.shape)"
      ]
    },
    {
      "cell_type": "code",
      "execution_count": 640,
      "metadata": {
        "id": "ZvMjZ2T-KpId"
      },
      "outputs": [
        {
          "data": {
            "text/html": [
              "<div>\n",
              "<style scoped>\n",
              "    .dataframe tbody tr th:only-of-type {\n",
              "        vertical-align: middle;\n",
              "    }\n",
              "\n",
              "    .dataframe tbody tr th {\n",
              "        vertical-align: top;\n",
              "    }\n",
              "\n",
              "    .dataframe thead th {\n",
              "        text-align: right;\n",
              "    }\n",
              "</style>\n",
              "<table border=\"1\" class=\"dataframe\">\n",
              "  <thead>\n",
              "    <tr style=\"text-align: right;\">\n",
              "      <th></th>\n",
              "      <th>id</th>\n",
              "      <th>gender</th>\n",
              "      <th>age</th>\n",
              "      <th>height_in_m</th>\n",
              "      <th>weight_in_kg</th>\n",
              "      <th>avg_glucose_level</th>\n",
              "      <th>bmi</th>\n",
              "      <th>smoking_status</th>\n",
              "      <th>hypertension</th>\n",
              "      <th>heart_disease</th>\n",
              "      <th>ever_married</th>\n",
              "      <th>work_type</th>\n",
              "      <th>Residence_type</th>\n",
              "      <th>stroke</th>\n",
              "    </tr>\n",
              "  </thead>\n",
              "  <tbody>\n",
              "    <tr>\n",
              "      <th>0</th>\n",
              "      <td>9046</td>\n",
              "      <td>Male</td>\n",
              "      <td>67.0</td>\n",
              "      <td>1.82880</td>\n",
              "      <td>122.409046</td>\n",
              "      <td>169.35</td>\n",
              "      <td>36.6</td>\n",
              "      <td>formerly smoked</td>\n",
              "      <td>0</td>\n",
              "      <td>1</td>\n",
              "      <td>Yes</td>\n",
              "      <td>Private</td>\n",
              "      <td>Urban</td>\n",
              "      <td>1</td>\n",
              "    </tr>\n",
              "    <tr>\n",
              "      <th>1</th>\n",
              "      <td>51676</td>\n",
              "      <td>Female</td>\n",
              "      <td>61.0</td>\n",
              "      <td>1.64592</td>\n",
              "      <td>NaN</td>\n",
              "      <td>169.35</td>\n",
              "      <td>NaN</td>\n",
              "      <td>never smoked</td>\n",
              "      <td>0</td>\n",
              "      <td>0</td>\n",
              "      <td>Yes</td>\n",
              "      <td>Self-employed</td>\n",
              "      <td>Rural</td>\n",
              "      <td>1</td>\n",
              "    </tr>\n",
              "    <tr>\n",
              "      <th>2</th>\n",
              "      <td>31112</td>\n",
              "      <td>Male</td>\n",
              "      <td>80.0</td>\n",
              "      <td>1.79832</td>\n",
              "      <td>105.103532</td>\n",
              "      <td>105.92</td>\n",
              "      <td>32.5</td>\n",
              "      <td>never smoked</td>\n",
              "      <td>0</td>\n",
              "      <td>1</td>\n",
              "      <td>Yes</td>\n",
              "      <td>Private</td>\n",
              "      <td>Rural</td>\n",
              "      <td>1</td>\n",
              "    </tr>\n",
              "    <tr>\n",
              "      <th>3</th>\n",
              "      <td>60182</td>\n",
              "      <td>Female</td>\n",
              "      <td>49.0</td>\n",
              "      <td>1.92024</td>\n",
              "      <td>126.843865</td>\n",
              "      <td>169.35</td>\n",
              "      <td>34.4</td>\n",
              "      <td>smokes</td>\n",
              "      <td>0</td>\n",
              "      <td>0</td>\n",
              "      <td>Yes</td>\n",
              "      <td>Private</td>\n",
              "      <td>Urban</td>\n",
              "      <td>1</td>\n",
              "    </tr>\n",
              "    <tr>\n",
              "      <th>4</th>\n",
              "      <td>1665</td>\n",
              "      <td>female</td>\n",
              "      <td>79.0</td>\n",
              "      <td>1.85928</td>\n",
              "      <td>82.966131</td>\n",
              "      <td>169.35</td>\n",
              "      <td>24.0</td>\n",
              "      <td>never smoked</td>\n",
              "      <td>1</td>\n",
              "      <td>0</td>\n",
              "      <td>Yes</td>\n",
              "      <td>Self-employed</td>\n",
              "      <td>Rural</td>\n",
              "      <td>1</td>\n",
              "    </tr>\n",
              "    <tr>\n",
              "      <th>...</th>\n",
              "      <td>...</td>\n",
              "      <td>...</td>\n",
              "      <td>...</td>\n",
              "      <td>...</td>\n",
              "      <td>...</td>\n",
              "      <td>...</td>\n",
              "      <td>...</td>\n",
              "      <td>...</td>\n",
              "      <td>...</td>\n",
              "      <td>...</td>\n",
              "      <td>...</td>\n",
              "      <td>...</td>\n",
              "      <td>...</td>\n",
              "      <td>...</td>\n",
              "    </tr>\n",
              "    <tr>\n",
              "      <th>5105</th>\n",
              "      <td>18234</td>\n",
              "      <td>Female</td>\n",
              "      <td>80.0</td>\n",
              "      <td>1.73736</td>\n",
              "      <td>NaN</td>\n",
              "      <td>83.75</td>\n",
              "      <td>NaN</td>\n",
              "      <td>never smoked</td>\n",
              "      <td>1</td>\n",
              "      <td>0</td>\n",
              "      <td>Yes</td>\n",
              "      <td>Private</td>\n",
              "      <td>Urban</td>\n",
              "      <td>0</td>\n",
              "    </tr>\n",
              "    <tr>\n",
              "      <th>5106</th>\n",
              "      <td>44873</td>\n",
              "      <td>Female</td>\n",
              "      <td>81.0</td>\n",
              "      <td>1.88976</td>\n",
              "      <td>142.847714</td>\n",
              "      <td>125.20</td>\n",
              "      <td>40.0</td>\n",
              "      <td>never smoked</td>\n",
              "      <td>0</td>\n",
              "      <td>0</td>\n",
              "      <td>Yes</td>\n",
              "      <td>Self-employed</td>\n",
              "      <td>Urban</td>\n",
              "      <td>0</td>\n",
              "    </tr>\n",
              "    <tr>\n",
              "      <th>5107</th>\n",
              "      <td>19723</td>\n",
              "      <td>Female</td>\n",
              "      <td>35.0</td>\n",
              "      <td>1.82880</td>\n",
              "      <td>102.341989</td>\n",
              "      <td>82.99</td>\n",
              "      <td>30.6</td>\n",
              "      <td>never smoked</td>\n",
              "      <td>0</td>\n",
              "      <td>0</td>\n",
              "      <td>Yes</td>\n",
              "      <td>Self-employed</td>\n",
              "      <td>Rural</td>\n",
              "      <td>0</td>\n",
              "    </tr>\n",
              "    <tr>\n",
              "      <th>5108</th>\n",
              "      <td>37544</td>\n",
              "      <td>Male</td>\n",
              "      <td>51.0</td>\n",
              "      <td>1.82880</td>\n",
              "      <td>85.619442</td>\n",
              "      <td>166.29</td>\n",
              "      <td>25.6</td>\n",
              "      <td>formerly smoked</td>\n",
              "      <td>0</td>\n",
              "      <td>0</td>\n",
              "      <td>Yes</td>\n",
              "      <td>Private</td>\n",
              "      <td>Rural</td>\n",
              "      <td>0</td>\n",
              "    </tr>\n",
              "    <tr>\n",
              "      <th>5109</th>\n",
              "      <td>44679</td>\n",
              "      <td>Female</td>\n",
              "      <td>44.0</td>\n",
              "      <td>1.58496</td>\n",
              "      <td>65.816973</td>\n",
              "      <td>85.28</td>\n",
              "      <td>26.2</td>\n",
              "      <td>Unknown</td>\n",
              "      <td>0</td>\n",
              "      <td>0</td>\n",
              "      <td>Yes</td>\n",
              "      <td>Govt_job</td>\n",
              "      <td>Urban</td>\n",
              "      <td>0</td>\n",
              "    </tr>\n",
              "  </tbody>\n",
              "</table>\n",
              "<p>5110 rows × 14 columns</p>\n",
              "</div>"
            ],
            "text/plain": [
              "         id  gender   age  height_in_m  weight_in_kg  avg_glucose_level   bmi  \\\n",
              "0      9046    Male  67.0      1.82880    122.409046             169.35  36.6   \n",
              "1     51676  Female  61.0      1.64592           NaN             169.35   NaN   \n",
              "2     31112    Male  80.0      1.79832    105.103532             105.92  32.5   \n",
              "3     60182  Female  49.0      1.92024    126.843865             169.35  34.4   \n",
              "4      1665  female  79.0      1.85928     82.966131             169.35  24.0   \n",
              "...     ...     ...   ...          ...           ...                ...   ...   \n",
              "5105  18234  Female  80.0      1.73736           NaN              83.75   NaN   \n",
              "5106  44873  Female  81.0      1.88976    142.847714             125.20  40.0   \n",
              "5107  19723  Female  35.0      1.82880    102.341989              82.99  30.6   \n",
              "5108  37544    Male  51.0      1.82880     85.619442             166.29  25.6   \n",
              "5109  44679  Female  44.0      1.58496     65.816973              85.28  26.2   \n",
              "\n",
              "       smoking_status  hypertension  heart_disease ever_married  \\\n",
              "0     formerly smoked             0              1          Yes   \n",
              "1        never smoked             0              0          Yes   \n",
              "2        never smoked             0              1          Yes   \n",
              "3              smokes             0              0          Yes   \n",
              "4        never smoked             1              0          Yes   \n",
              "...               ...           ...            ...          ...   \n",
              "5105     never smoked             1              0          Yes   \n",
              "5106     never smoked             0              0          Yes   \n",
              "5107     never smoked             0              0          Yes   \n",
              "5108  formerly smoked             0              0          Yes   \n",
              "5109          Unknown             0              0          Yes   \n",
              "\n",
              "          work_type Residence_type  stroke  \n",
              "0           Private          Urban       1  \n",
              "1     Self-employed          Rural       1  \n",
              "2           Private          Rural       1  \n",
              "3           Private          Urban       1  \n",
              "4     Self-employed          Rural       1  \n",
              "...             ...            ...     ...  \n",
              "5105        Private          Urban       0  \n",
              "5106  Self-employed          Urban       0  \n",
              "5107  Self-employed          Rural       0  \n",
              "5108        Private          Rural       0  \n",
              "5109       Govt_job          Urban       0  \n",
              "\n",
              "[5110 rows x 14 columns]"
            ]
          },
          "execution_count": 640,
          "metadata": {},
          "output_type": "execute_result"
        }
      ],
      "source": [
        "## write your code here\n",
        "df[~df.duplicated()]"
      ]
    },
    {
      "cell_type": "markdown",
      "metadata": {
        "id": "uBv2FTw7L7gK"
      },
      "source": [
        "## Remove Duplicate Entries\n",
        "\n",
        "- Remove all those rows which has duplicate entries"
      ]
    },
    {
      "cell_type": "code",
      "execution_count": 641,
      "metadata": {
        "id": "VUKSJBHbLtHB"
      },
      "outputs": [],
      "source": [
        "## write your code here\n",
        "\n"
      ]
    },
    {
      "cell_type": "code",
      "execution_count": 642,
      "metadata": {
        "id": "Rn_WXSMUMEJI"
      },
      "outputs": [],
      "source": [
        "## write your code here\n"
      ]
    },
    {
      "cell_type": "markdown",
      "metadata": {
        "id": "ZIQdCWmjMi8R"
      },
      "source": [
        "## Checking Missing Values\n",
        "- Find missing values (NAN) values in the datasets\n",
        "- Find columns which has missing values with their frequency"
      ]
    },
    {
      "cell_type": "code",
      "execution_count": 643,
      "metadata": {
        "id": "v8cakW4cMNKi"
      },
      "outputs": [
        {
          "data": {
            "text/plain": [
              "id                     0\n",
              "gender                 0\n",
              "age                    0\n",
              "height_in_m            0\n",
              "weight_in_kg         201\n",
              "avg_glucose_level      0\n",
              "bmi                  201\n",
              "smoking_status         0\n",
              "hypertension           0\n",
              "heart_disease          0\n",
              "ever_married         202\n",
              "work_type              0\n",
              "Residence_type         0\n",
              "stroke                 0\n",
              "dtype: int64"
            ]
          },
          "execution_count": 643,
          "metadata": {},
          "output_type": "execute_result"
        }
      ],
      "source": [
        "## write your code here\n",
        "df.isnull().sum()\n"
      ]
    },
    {
      "cell_type": "markdown",
      "metadata": {
        "id": "wbKDGBTGMwof"
      },
      "source": [
        "## Visualize missing values using heatmaps"
      ]
    },
    {
      "cell_type": "code",
      "execution_count": 644,
      "metadata": {
        "id": "UvY_SV-TMNNX"
      },
      "outputs": [
        {
          "data": {
            "text/plain": [
              "<Axes: >"
            ]
          },
          "execution_count": 644,
          "metadata": {},
          "output_type": "execute_result"
        },
        {
          "data": {
            "image/png": "[encoded data removed]",
            "text/plain": [
              "<Figure size 640x480 with 2 Axes>"
            ]
          },
          "metadata": {},
          "output_type": "display_data"
        }
      ],
      "source": [
        "## write your code here\n",
        "sns.heatmap(df.isnull(),cmap='hot')"
      ]
    },
    {
      "cell_type": "markdown",
      "metadata": {
        "id": "DcrkiP18NfjW"
      },
      "source": [
        "## Handling Missing Values\n",
        "\n",
        "- Handle missing values for ever_married column, avg_glucose_level and weight_in_kg column"
      ]
    },
    {
      "cell_type": "code",
      "execution_count": 645,
      "metadata": {
        "id": "2-idkbgOMNP9"
      },
      "outputs": [
        {
          "data": {
            "text/plain": [
              "(4934, 14)"
            ]
          },
          "execution_count": 645,
          "metadata": {},
          "output_type": "execute_result"
        }
      ],
      "source": [
        "## write your code here\n",
        "clean_df=df.loc[~df['weight_in_kg'].isnull()]\n",
        "clean_df.shape"
      ]
    },
    {
      "cell_type": "code",
      "execution_count": 646,
      "metadata": {
        "id": "DL0S3d5FMNS9"
      },
      "outputs": [
        {
          "data": {
            "text/plain": [
              "id                     0\n",
              "gender                 0\n",
              "age                    0\n",
              "height_in_m            0\n",
              "weight_in_kg           0\n",
              "avg_glucose_level      0\n",
              "bmi                    0\n",
              "smoking_status         0\n",
              "hypertension           0\n",
              "heart_disease          0\n",
              "ever_married         197\n",
              "work_type              0\n",
              "Residence_type         0\n",
              "stroke                 0\n",
              "dtype: int64"
            ]
          },
          "execution_count": 646,
          "metadata": {},
          "output_type": "execute_result"
        }
      ],
      "source": [
        "## write your code here\n",
        "clean_df.isnull().sum()"
      ]
    },
    {
      "cell_type": "code",
      "execution_count": 647,
      "metadata": {
        "id": "8FNdApHgNoSv"
      },
      "outputs": [
        {
          "data": {
            "text/html": [
              "<div>\n",
              "<style scoped>\n",
              "    .dataframe tbody tr th:only-of-type {\n",
              "        vertical-align: middle;\n",
              "    }\n",
              "\n",
              "    .dataframe tbody tr th {\n",
              "        vertical-align: top;\n",
              "    }\n",
              "\n",
              "    .dataframe thead th {\n",
              "        text-align: right;\n",
              "    }\n",
              "</style>\n",
              "<table border=\"1\" class=\"dataframe\">\n",
              "  <thead>\n",
              "    <tr style=\"text-align: right;\">\n",
              "      <th></th>\n",
              "      <th>id</th>\n",
              "      <th>gender</th>\n",
              "      <th>age</th>\n",
              "      <th>height_in_m</th>\n",
              "      <th>weight_in_kg</th>\n",
              "      <th>avg_glucose_level</th>\n",
              "      <th>bmi</th>\n",
              "      <th>smoking_status</th>\n",
              "      <th>hypertension</th>\n",
              "      <th>heart_disease</th>\n",
              "      <th>ever_married</th>\n",
              "      <th>work_type</th>\n",
              "      <th>Residence_type</th>\n",
              "      <th>stroke</th>\n",
              "    </tr>\n",
              "  </thead>\n",
              "  <tbody>\n",
              "    <tr>\n",
              "      <th>249</th>\n",
              "      <td>30669</td>\n",
              "      <td>Male</td>\n",
              "      <td>3.0</td>\n",
              "      <td>1.64592</td>\n",
              "      <td>48.762948</td>\n",
              "      <td>95.12</td>\n",
              "      <td>18.0</td>\n",
              "      <td>Unknown</td>\n",
              "      <td>0</td>\n",
              "      <td>0</td>\n",
              "      <td>NaN</td>\n",
              "      <td>children</td>\n",
              "      <td>Rural</td>\n",
              "      <td>0</td>\n",
              "    </tr>\n",
              "    <tr>\n",
              "      <th>282</th>\n",
              "      <td>33759</td>\n",
              "      <td>Female</td>\n",
              "      <td>3.0</td>\n",
              "      <td>1.55448</td>\n",
              "      <td>38.662529</td>\n",
              "      <td>73.74</td>\n",
              "      <td>16.0</td>\n",
              "      <td>Unknown</td>\n",
              "      <td>0</td>\n",
              "      <td>0</td>\n",
              "      <td>NaN</td>\n",
              "      <td>children</td>\n",
              "      <td>Urban</td>\n",
              "      <td>0</td>\n",
              "    </tr>\n",
              "    <tr>\n",
              "      <th>291</th>\n",
              "      <td>11014</td>\n",
              "      <td>Male</td>\n",
              "      <td>4.0</td>\n",
              "      <td>1.85928</td>\n",
              "      <td>69.138442</td>\n",
              "      <td>79.17</td>\n",
              "      <td>20.0</td>\n",
              "      <td>Unknown</td>\n",
              "      <td>0</td>\n",
              "      <td>0</td>\n",
              "      <td>NaN</td>\n",
              "      <td>children</td>\n",
              "      <td>Rural</td>\n",
              "      <td>0</td>\n",
              "    </tr>\n",
              "    <tr>\n",
              "      <th>369</th>\n",
              "      <td>8171</td>\n",
              "      <td>Female</td>\n",
              "      <td>4.0</td>\n",
              "      <td>1.76784</td>\n",
              "      <td>51.879287</td>\n",
              "      <td>93.25</td>\n",
              "      <td>16.6</td>\n",
              "      <td>Unknown</td>\n",
              "      <td>0</td>\n",
              "      <td>0</td>\n",
              "      <td>NaN</td>\n",
              "      <td>children</td>\n",
              "      <td>Rural</td>\n",
              "      <td>0</td>\n",
              "    </tr>\n",
              "    <tr>\n",
              "      <th>380</th>\n",
              "      <td>31741</td>\n",
              "      <td>Male</td>\n",
              "      <td>4.0</td>\n",
              "      <td>1.95072</td>\n",
              "      <td>63.548652</td>\n",
              "      <td>106.22</td>\n",
              "      <td>16.7</td>\n",
              "      <td>Unknown</td>\n",
              "      <td>0</td>\n",
              "      <td>0</td>\n",
              "      <td>NaN</td>\n",
              "      <td>children</td>\n",
              "      <td>Rural</td>\n",
              "      <td>0</td>\n",
              "    </tr>\n",
              "    <tr>\n",
              "      <th>...</th>\n",
              "      <td>...</td>\n",
              "      <td>...</td>\n",
              "      <td>...</td>\n",
              "      <td>...</td>\n",
              "      <td>...</td>\n",
              "      <td>...</td>\n",
              "      <td>...</td>\n",
              "      <td>...</td>\n",
              "      <td>...</td>\n",
              "      <td>...</td>\n",
              "      <td>...</td>\n",
              "      <td>...</td>\n",
              "      <td>...</td>\n",
              "      <td>...</td>\n",
              "    </tr>\n",
              "    <tr>\n",
              "      <th>5020</th>\n",
              "      <td>6278</td>\n",
              "      <td>Male</td>\n",
              "      <td>5.0</td>\n",
              "      <td>1.58496</td>\n",
              "      <td>44.212928</td>\n",
              "      <td>97.46</td>\n",
              "      <td>17.6</td>\n",
              "      <td>Unknown</td>\n",
              "      <td>0</td>\n",
              "      <td>0</td>\n",
              "      <td>NaN</td>\n",
              "      <td>children</td>\n",
              "      <td>Urban</td>\n",
              "      <td>0</td>\n",
              "    </tr>\n",
              "    <tr>\n",
              "      <th>5050</th>\n",
              "      <td>15581</td>\n",
              "      <td>Male</td>\n",
              "      <td>5.0</td>\n",
              "      <td>1.95072</td>\n",
              "      <td>73.442454</td>\n",
              "      <td>101.87</td>\n",
              "      <td>19.3</td>\n",
              "      <td>Unknown</td>\n",
              "      <td>0</td>\n",
              "      <td>0</td>\n",
              "      <td>NaN</td>\n",
              "      <td>children</td>\n",
              "      <td>Urban</td>\n",
              "      <td>0</td>\n",
              "    </tr>\n",
              "    <tr>\n",
              "      <th>5052</th>\n",
              "      <td>31836</td>\n",
              "      <td>Female</td>\n",
              "      <td>6.0</td>\n",
              "      <td>1.98120</td>\n",
              "      <td>86.745891</td>\n",
              "      <td>91.05</td>\n",
              "      <td>22.1</td>\n",
              "      <td>Unknown</td>\n",
              "      <td>0</td>\n",
              "      <td>0</td>\n",
              "      <td>NaN</td>\n",
              "      <td>children</td>\n",
              "      <td>Urban</td>\n",
              "      <td>0</td>\n",
              "    </tr>\n",
              "    <tr>\n",
              "      <th>5070</th>\n",
              "      <td>62425</td>\n",
              "      <td>Female</td>\n",
              "      <td>5.0</td>\n",
              "      <td>1.85928</td>\n",
              "      <td>58.076292</td>\n",
              "      <td>61.98</td>\n",
              "      <td>16.8</td>\n",
              "      <td>Unknown</td>\n",
              "      <td>0</td>\n",
              "      <td>0</td>\n",
              "      <td>NaN</td>\n",
              "      <td>children</td>\n",
              "      <td>Urban</td>\n",
              "      <td>0</td>\n",
              "    </tr>\n",
              "    <tr>\n",
              "      <th>5119</th>\n",
              "      <td>26242</td>\n",
              "      <td>Male</td>\n",
              "      <td>6.0</td>\n",
              "      <td>1.55448</td>\n",
              "      <td>48.328161</td>\n",
              "      <td>83.28</td>\n",
              "      <td>20.0</td>\n",
              "      <td>Unknown</td>\n",
              "      <td>0</td>\n",
              "      <td>0</td>\n",
              "      <td>NaN</td>\n",
              "      <td>children</td>\n",
              "      <td>Urban</td>\n",
              "      <td>0</td>\n",
              "    </tr>\n",
              "  </tbody>\n",
              "</table>\n",
              "<p>197 rows × 14 columns</p>\n",
              "</div>"
            ],
            "text/plain": [
              "         id  gender  age  height_in_m  weight_in_kg  avg_glucose_level   bmi  \\\n",
              "249   30669    Male  3.0      1.64592     48.762948              95.12  18.0   \n",
              "282   33759  Female  3.0      1.55448     38.662529              73.74  16.0   \n",
              "291   11014    Male  4.0      1.85928     69.138442              79.17  20.0   \n",
              "369    8171  Female  4.0      1.76784     51.879287              93.25  16.6   \n",
              "380   31741    Male  4.0      1.95072     63.548652             106.22  16.7   \n",
              "...     ...     ...  ...          ...           ...                ...   ...   \n",
              "5020   6278    Male  5.0      1.58496     44.212928              97.46  17.6   \n",
              "5050  15581    Male  5.0      1.95072     73.442454             101.87  19.3   \n",
              "5052  31836  Female  6.0      1.98120     86.745891              91.05  22.1   \n",
              "5070  62425  Female  5.0      1.85928     58.076292              61.98  16.8   \n",
              "5119  26242    Male  6.0      1.55448     48.328161              83.28  20.0   \n",
              "\n",
              "     smoking_status  hypertension  heart_disease ever_married work_type  \\\n",
              "249         Unknown             0              0          NaN  children   \n",
              "282         Unknown             0              0          NaN  children   \n",
              "291         Unknown             0              0          NaN  children   \n",
              "369         Unknown             0              0          NaN  children   \n",
              "380         Unknown             0              0          NaN  children   \n",
              "...             ...           ...            ...          ...       ...   \n",
              "5020        Unknown             0              0          NaN  children   \n",
              "5050        Unknown             0              0          NaN  children   \n",
              "5052        Unknown             0              0          NaN  children   \n",
              "5070        Unknown             0              0          NaN  children   \n",
              "5119        Unknown             0              0          NaN  children   \n",
              "\n",
              "     Residence_type  stroke  \n",
              "249           Rural       0  \n",
              "282           Urban       0  \n",
              "291           Rural       0  \n",
              "369           Rural       0  \n",
              "380           Rural       0  \n",
              "...             ...     ...  \n",
              "5020          Urban       0  \n",
              "5050          Urban       0  \n",
              "5052          Urban       0  \n",
              "5070          Urban       0  \n",
              "5119          Urban       0  \n",
              "\n",
              "[197 rows x 14 columns]"
            ]
          },
          "execution_count": 647,
          "metadata": {},
          "output_type": "execute_result"
        }
      ],
      "source": [
        "## write your code here\n",
        "clean_df.loc[clean_df['ever_married'].isnull()]\n"
      ]
    },
    {
      "cell_type": "code",
      "execution_count": 648,
      "metadata": {},
      "outputs": [
        {
          "data": {
            "text/plain": [
              "<bound method IndexOpsMixin.value_counts of 0       Yes\n",
              "2       Yes\n",
              "3       Yes\n",
              "4       Yes\n",
              "5       Yes\n",
              "       ... \n",
              "5130    Yes\n",
              "5131     No\n",
              "5132     No\n",
              "5133    Yes\n",
              "5134     No\n",
              "Name: ever_married, Length: 4934, dtype: object>"
            ]
          },
          "execution_count": 648,
          "metadata": {},
          "output_type": "execute_result"
        }
      ],
      "source": [
        "clean_df['ever_married'].value_counts"
      ]
    },
    {
      "cell_type": "code",
      "execution_count": 649,
      "metadata": {
        "id": "8VV8AGgFN6VT"
      },
      "outputs": [],
      "source": [
        "## write your code here\n",
        "# if someone is below 18 yrs old, he/she can not marry\n",
        "\n",
        "clean_df.loc[clean_df['ever_married'].isna(),'ever_married'] = \"No\"\n",
        "\n"
      ]
    },
    {
      "cell_type": "code",
      "execution_count": 650,
      "metadata": {},
      "outputs": [
        {
          "data": {
            "text/plain": [
              "id                   0\n",
              "gender               0\n",
              "age                  0\n",
              "height_in_m          0\n",
              "weight_in_kg         0\n",
              "avg_glucose_level    0\n",
              "bmi                  0\n",
              "smoking_status       0\n",
              "hypertension         0\n",
              "heart_disease        0\n",
              "ever_married         0\n",
              "work_type            0\n",
              "Residence_type       0\n",
              "stroke               0\n",
              "dtype: int64"
            ]
          },
          "execution_count": 650,
          "metadata": {},
          "output_type": "execute_result"
        }
      ],
      "source": [
        "clean_df.isnull().sum()"
      ]
    },
    {
      "cell_type": "markdown",
      "metadata": {
        "id": "ss5BBdL5nhII"
      },
      "source": [
        "## Checking missing values for weight_in_kg and bmi columns"
      ]
    },
    {
      "cell_type": "code",
      "execution_count": 651,
      "metadata": {
        "id": "6tyjr5pmOhye"
      },
      "outputs": [],
      "source": [
        "## write your code here\n"
      ]
    },
    {
      "cell_type": "code",
      "execution_count": 652,
      "metadata": {
        "id": "GVvrnFyfOdVN"
      },
      "outputs": [],
      "source": [
        "## write your code here\n"
      ]
    },
    {
      "cell_type": "markdown",
      "metadata": {
        "id": "fAQrvTXqnq9R"
      },
      "source": [
        "## Check relationship between bmi and height_in_m whether it can be used to fill missing values in bmi (use scatterplot to visually inspect relationship)\n"
      ]
    },
    {
      "cell_type": "code",
      "execution_count": 653,
      "metadata": {
        "id": "Gokj-af6OfRj"
      },
      "outputs": [],
      "source": [
        "## write your code here\n"
      ]
    },
    {
      "cell_type": "code",
      "execution_count": 654,
      "metadata": {
        "id": "Ke6kWxX_PIBj"
      },
      "outputs": [],
      "source": [
        "## write your code here\n"
      ]
    },
    {
      "cell_type": "code",
      "execution_count": 655,
      "metadata": {
        "id": "GB1WVuZOPWb1"
      },
      "outputs": [],
      "source": [
        "## write your code here\n"
      ]
    },
    {
      "cell_type": "code",
      "execution_count": 656,
      "metadata": {
        "id": "Bdh26tyKPhPP"
      },
      "outputs": [],
      "source": [
        "## write your code here\n"
      ]
    },
    {
      "cell_type": "markdown",
      "metadata": {
        "id": "G5oV7TZHP_h3"
      },
      "source": [
        "## Exploratory Data Analysis\n",
        "\n",
        "- Univariate Analysis: Studying one variable at a time\n",
        "- Bivariate Analysis: Studying two variables at a time\n",
        "- Multivariate Analysis: Studying multiple variables at a time\n",
        "- We need to investigate each feature properly"
      ]
    },
    {
      "cell_type": "code",
      "execution_count": 657,
      "metadata": {
        "id": "68NeELsnQYLe"
      },
      "outputs": [],
      "source": [
        "## write your code here\n"
      ]
    },
    {
      "cell_type": "markdown",
      "metadata": {
        "id": "6ncE8puRQV3G"
      },
      "source": [
        "## id feature"
      ]
    },
    {
      "cell_type": "code",
      "execution_count": 658,
      "metadata": {
        "id": "-H5ovpAmPjbL"
      },
      "outputs": [
        {
          "data": {
            "text/plain": [
              "id\n",
              "53695    2\n",
              "20973    2\n",
              "23026    2\n",
              "27705    2\n",
              "26474    2\n",
              "        ..\n",
              "49645    1\n",
              "16028    1\n",
              "24272    1\n",
              "54058    1\n",
              "44679    1\n",
              "Name: count, Length: 4909, dtype: int64"
            ]
          },
          "execution_count": 658,
          "metadata": {},
          "output_type": "execute_result"
        }
      ],
      "source": [
        "## write your code here\n",
        "clean_df['id'].value_counts()"
      ]
    },
    {
      "cell_type": "code",
      "execution_count": null,
      "metadata": {
        "id": "KepFLzUMQeMD"
      },
      "outputs": [],
      "source": []
    },
    {
      "cell_type": "markdown",
      "metadata": {
        "id": "72T2_GNdQj90"
      },
      "source": [
        "## gender"
      ]
    },
    {
      "cell_type": "code",
      "execution_count": 659,
      "metadata": {
        "id": "UtV3KGWJQfpS"
      },
      "outputs": [
        {
          "data": {
            "text/plain": [
              "dtype('O')"
            ]
          },
          "execution_count": 659,
          "metadata": {},
          "output_type": "execute_result"
        }
      ],
      "source": [
        "## write your code here (check dtypes first)\n",
        "clean_df['gender'].dtype"
      ]
    },
    {
      "cell_type": "code",
      "execution_count": 660,
      "metadata": {
        "id": "k0YlhcJaQnaj"
      },
      "outputs": [
        {
          "data": {
            "text/plain": [
              "gender\n",
              "Female    2868\n",
              "Male      1973\n",
              "female      47\n",
              "male        45\n",
              "Other        1\n",
              "Name: count, dtype: int64"
            ]
          },
          "execution_count": 660,
          "metadata": {},
          "output_type": "execute_result"
        }
      ],
      "source": [
        "## write your code here\n",
        "clean_df['gender'].value_counts()"
      ]
    },
    {
      "cell_type": "code",
      "execution_count": 661,
      "metadata": {
        "id": "qt7WIpkcQr2q"
      },
      "outputs": [
        {
          "name": "stderr",
          "output_type": "stream",
          "text": [
            "C:\\Users\\ramme\\AppData\\Local\\Temp\\ipykernel_5420\\1027332829.py:2: SettingWithCopyWarning: \n",
            "A value is trying to be set on a copy of a slice from a DataFrame.\n",
            "Try using .loc[row_indexer,col_indexer] = value instead\n",
            "\n",
            "See the caveats in the documentation: https://pandas.pydata.org/pandas-docs/stable/user_guide/indexing.html#returning-a-view-versus-a-copy\n",
            "  clean_df['gender'] = clean_df['gender'].str.lower()\n"
          ]
        }
      ],
      "source": [
        "## write your code here for calculating frequency count of gender column\n",
        "clean_df['gender'] = clean_df['gender'].str.lower()"
      ]
    },
    {
      "cell_type": "code",
      "execution_count": 662,
      "metadata": {
        "id": "htc1l7qRQ7uY"
      },
      "outputs": [
        {
          "data": {
            "text/plain": [
              "gender\n",
              "female    2915\n",
              "male      2018\n",
              "other        1\n",
              "Name: count, dtype: int64"
            ]
          },
          "execution_count": 662,
          "metadata": {},
          "output_type": "execute_result"
        }
      ],
      "source": [
        "clean_df['gender'].value_counts()"
      ]
    },
    {
      "cell_type": "code",
      "execution_count": 663,
      "metadata": {
        "id": "3t3teBBpQ-G7"
      },
      "outputs": [],
      "source": [
        "## write your code here\n",
        "clean_df = clean_df.loc[clean_df['gender'] !='other']"
      ]
    },
    {
      "cell_type": "code",
      "execution_count": 664,
      "metadata": {
        "id": "IfwE2PwgRVjP"
      },
      "outputs": [
        {
          "data": {
            "text/plain": [
              "gender\n",
              "female    2915\n",
              "male      2018\n",
              "Name: count, dtype: int64"
            ]
          },
          "execution_count": 664,
          "metadata": {},
          "output_type": "execute_result"
        }
      ],
      "source": [
        "clean_df['gender'].value_counts()"
      ]
    },
    {
      "cell_type": "markdown",
      "metadata": {
        "id": "mvVf-tfFoV9t"
      },
      "source": [
        "## Create Piechart Or Bargraph For Univariate Analysis Of Categorical Feature"
      ]
    },
    {
      "cell_type": "code",
      "execution_count": 665,
      "metadata": {
        "id": "eSD2OxtfRXIk"
      },
      "outputs": [
        {
          "data": {
            "text/html": [
              "<div>\n",
              "<style scoped>\n",
              "    .dataframe tbody tr th:only-of-type {\n",
              "        vertical-align: middle;\n",
              "    }\n",
              "\n",
              "    .dataframe tbody tr th {\n",
              "        vertical-align: top;\n",
              "    }\n",
              "\n",
              "    .dataframe thead th {\n",
              "        text-align: right;\n",
              "    }\n",
              "</style>\n",
              "<table border=\"1\" class=\"dataframe\">\n",
              "  <thead>\n",
              "    <tr style=\"text-align: right;\">\n",
              "      <th></th>\n",
              "      <th>gender</th>\n",
              "      <th>count</th>\n",
              "    </tr>\n",
              "  </thead>\n",
              "  <tbody>\n",
              "    <tr>\n",
              "      <th>0</th>\n",
              "      <td>female</td>\n",
              "      <td>2915</td>\n",
              "    </tr>\n",
              "    <tr>\n",
              "      <th>1</th>\n",
              "      <td>male</td>\n",
              "      <td>2018</td>\n",
              "    </tr>\n",
              "  </tbody>\n",
              "</table>\n",
              "</div>"
            ],
            "text/plain": [
              "   gender  count\n",
              "0  female   2915\n",
              "1    male   2018"
            ]
          },
          "execution_count": 665,
          "metadata": {},
          "output_type": "execute_result"
        }
      ],
      "source": [
        "## write your code here\n",
        "gender_df=clean_df['gender'].value_counts().reset_index()\n",
        "gender_df"
      ]
    },
    {
      "cell_type": "code",
      "execution_count": 666,
      "metadata": {},
      "outputs": [
        {
          "data": {
            "text/plain": [
              "<matplotlib.legend.Legend at 0x18f0f180910>"
            ]
          },
          "execution_count": 666,
          "metadata": {},
          "output_type": "execute_result"
        },
        {
          "data": {
            "image/png": "[encoded data removed]",
            "text/plain": [
              "<Figure size 1200x800 with 1 Axes>"
            ]
          },
          "metadata": {},
          "output_type": "display_data"
        }
      ],
      "source": [
        "plt.figure(figsize=(12,8))\n",
        "plt.pie(gender_df['count'],labels=gender_df['gender'],autopct=\"%.1f%%\")\n",
        "plt.legend()\n"
      ]
    },
    {
      "cell_type": "markdown",
      "metadata": {},
      "source": [
        "<li> There is 59.1% of female and 40.9% of male in the datatsets </li>"
      ]
    },
    {
      "cell_type": "code",
      "execution_count": null,
      "metadata": {},
      "outputs": [],
      "source": []
    },
    {
      "cell_type": "markdown",
      "metadata": {
        "id": "Hi_BQvAkSDAj"
      },
      "source": [
        "## smoking status"
      ]
    },
    {
      "cell_type": "code",
      "execution_count": 667,
      "metadata": {
        "id": "N8hTdzjQRk6O"
      },
      "outputs": [
        {
          "data": {
            "text/plain": [
              "smoking_status\n",
              "never smoked       1866\n",
              "Unknown            1488\n",
              "formerly smoked     839\n",
              "smokes              740\n",
              "Name: count, dtype: int64"
            ]
          },
          "execution_count": 667,
          "metadata": {},
          "output_type": "execute_result"
        }
      ],
      "source": [
        "## write your code here\n",
        "clean_df['smoking_status'].value_counts()"
      ]
    },
    {
      "cell_type": "code",
      "execution_count": 668,
      "metadata": {
        "id": "86qKBQ95SOWZ"
      },
      "outputs": [],
      "source": [
        "## write your code here\n",
        "clean_df.loc[clean_df['smoking_status']==\"Unknown\",\"smoking_status\"]=\"never smoked\""
      ]
    },
    {
      "cell_type": "code",
      "execution_count": 669,
      "metadata": {
        "id": "YaDqAvGpSWwY"
      },
      "outputs": [
        {
          "data": {
            "text/plain": [
              "smoking_status\n",
              "never smoked       3354\n",
              "formerly smoked     839\n",
              "smokes              740\n",
              "Name: count, dtype: int64"
            ]
          },
          "execution_count": 669,
          "metadata": {},
          "output_type": "execute_result"
        }
      ],
      "source": [
        "## write your code herec\n",
        "clean_df[\"smoking_status\"].value_counts()\n"
      ]
    },
    {
      "cell_type": "code",
      "execution_count": 670,
      "metadata": {
        "id": "r92tbwSJSkIv"
      },
      "outputs": [
        {
          "data": {
            "text/html": [
              "<div>\n",
              "<style scoped>\n",
              "    .dataframe tbody tr th:only-of-type {\n",
              "        vertical-align: middle;\n",
              "    }\n",
              "\n",
              "    .dataframe tbody tr th {\n",
              "        vertical-align: top;\n",
              "    }\n",
              "\n",
              "    .dataframe thead th {\n",
              "        text-align: right;\n",
              "    }\n",
              "</style>\n",
              "<table border=\"1\" class=\"dataframe\">\n",
              "  <thead>\n",
              "    <tr style=\"text-align: right;\">\n",
              "      <th></th>\n",
              "      <th>smoking_status</th>\n",
              "      <th>count</th>\n",
              "    </tr>\n",
              "  </thead>\n",
              "  <tbody>\n",
              "    <tr>\n",
              "      <th>0</th>\n",
              "      <td>never smoked</td>\n",
              "      <td>3354</td>\n",
              "    </tr>\n",
              "    <tr>\n",
              "      <th>1</th>\n",
              "      <td>formerly smoked</td>\n",
              "      <td>839</td>\n",
              "    </tr>\n",
              "    <tr>\n",
              "      <th>2</th>\n",
              "      <td>smokes</td>\n",
              "      <td>740</td>\n",
              "    </tr>\n",
              "  </tbody>\n",
              "</table>\n",
              "</div>"
            ],
            "text/plain": [
              "    smoking_status  count\n",
              "0     never smoked   3354\n",
              "1  formerly smoked    839\n",
              "2           smokes    740"
            ]
          },
          "execution_count": 670,
          "metadata": {},
          "output_type": "execute_result"
        }
      ],
      "source": [
        "## write your code here()\n",
        "smoked_df= clean_df[\"smoking_status\"].value_counts().reset_index()\n",
        "smoked_df"
      ]
    },
    {
      "cell_type": "code",
      "execution_count": null,
      "metadata": {
        "id": "AjTVNVxiSwFm"
      },
      "outputs": [],
      "source": []
    },
    {
      "cell_type": "code",
      "execution_count": null,
      "metadata": {
        "id": "SvLZymRpTFKs"
      },
      "outputs": [],
      "source": []
    },
    {
      "cell_type": "markdown",
      "metadata": {
        "id": "vpYyqjGNophN"
      },
      "source": [
        "## Plot figure (Barchart)"
      ]
    },
    {
      "cell_type": "code",
      "execution_count": 671,
      "metadata": {
        "id": "FhzyX-NtTXQB"
      },
      "outputs": [
        {
          "name": "stderr",
          "output_type": "stream",
          "text": [
            "C:\\Users\\ramme\\AppData\\Local\\Temp\\ipykernel_5420\\1774082971.py:2: FutureWarning: \n",
            "\n",
            "Passing `palette` without assigning `hue` is deprecated and will be removed in v0.14.0. Assign the `x` variable to `hue` and set `legend=False` for the same effect.\n",
            "\n",
            "  sns.barplot(data=smoked_df,x='smoking_status',y='count',palette=['red','green','blue'])\n"
          ]
        },
        {
          "data": {
            "image/png": "[encoded data removed]",
            "text/plain": [
              "<Figure size 1200x800 with 1 Axes>"
            ]
          },
          "metadata": {},
          "output_type": "display_data"
        }
      ],
      "source": [
        "plt.figure(figsize=(12,8))\n",
        "sns.barplot(data=smoked_df,x='smoking_status',y='count',palette=['red','green','blue'])\n",
        "plt.title('Distributionof Smoking Status in the dataste')\n",
        "plt.show()\n"
      ]
    },
    {
      "cell_type": "code",
      "execution_count": 672,
      "metadata": {
        "id": "aLV1D1P0TH0S"
      },
      "outputs": [],
      "source": [
        "## write your code here (use seaborn)\n"
      ]
    },
    {
      "cell_type": "markdown",
      "metadata": {
        "id": "CF7Nkt_2T3bM"
      },
      "source": [
        "## hypertension"
      ]
    },
    {
      "cell_type": "code",
      "execution_count": 673,
      "metadata": {
        "id": "JJtYr91WT6kc"
      },
      "outputs": [
        {
          "data": {
            "text/html": [
              "<div>\n",
              "<style scoped>\n",
              "    .dataframe tbody tr th:only-of-type {\n",
              "        vertical-align: middle;\n",
              "    }\n",
              "\n",
              "    .dataframe tbody tr th {\n",
              "        vertical-align: top;\n",
              "    }\n",
              "\n",
              "    .dataframe thead th {\n",
              "        text-align: right;\n",
              "    }\n",
              "</style>\n",
              "<table border=\"1\" class=\"dataframe\">\n",
              "  <thead>\n",
              "    <tr style=\"text-align: right;\">\n",
              "      <th></th>\n",
              "      <th>hypertension</th>\n",
              "      <th>count</th>\n",
              "    </tr>\n",
              "  </thead>\n",
              "  <tbody>\n",
              "    <tr>\n",
              "      <th>0</th>\n",
              "      <td>0</td>\n",
              "      <td>4481</td>\n",
              "    </tr>\n",
              "    <tr>\n",
              "      <th>1</th>\n",
              "      <td>1</td>\n",
              "      <td>452</td>\n",
              "    </tr>\n",
              "  </tbody>\n",
              "</table>\n",
              "</div>"
            ],
            "text/plain": [
              "   hypertension  count\n",
              "0             0   4481\n",
              "1             1    452"
            ]
          },
          "execution_count": 673,
          "metadata": {},
          "output_type": "execute_result"
        }
      ],
      "source": [
        "## write your code here\n",
        "hyper_df=clean_df['hypertension'].value_counts().reset_index()\n",
        "hyper_df"
      ]
    },
    {
      "cell_type": "code",
      "execution_count": 674,
      "metadata": {
        "id": "VmXA47dSUChR"
      },
      "outputs": [
        {
          "ename": "ValueError",
          "evalue": "Could not interpret value `smoking_status` for `x`. An entry with this name does not appear in `data`.",
          "output_type": "error",
          "traceback": [
            "\u001b[1;31m---------------------------------------------------------------------------\u001b[0m",
            "\u001b[1;31mValueError\u001b[0m                                Traceback (most recent call last)",
            "Cell \u001b[1;32mIn[674], line 3\u001b[0m\n\u001b[0;32m      1\u001b[0m \u001b[38;5;66;03m## write your code here (show graph)\u001b[39;00m\n\u001b[0;32m      2\u001b[0m plt\u001b[38;5;241m.\u001b[39mfigure(figsize\u001b[38;5;241m=\u001b[39m(\u001b[38;5;241m12\u001b[39m,\u001b[38;5;241m8\u001b[39m))\n\u001b[1;32m----> 3\u001b[0m \u001b[43msns\u001b[49m\u001b[38;5;241;43m.\u001b[39;49m\u001b[43mbarplot\u001b[49m\u001b[43m(\u001b[49m\u001b[43mdata\u001b[49m\u001b[38;5;241;43m=\u001b[39;49m\u001b[43mhyper_df\u001b[49m\u001b[43m,\u001b[49m\u001b[43mx\u001b[49m\u001b[38;5;241;43m=\u001b[39;49m\u001b[38;5;124;43m'\u001b[39;49m\u001b[38;5;124;43msmoking_status\u001b[39;49m\u001b[38;5;124;43m'\u001b[39;49m\u001b[43m,\u001b[49m\u001b[43my\u001b[49m\u001b[38;5;241;43m=\u001b[39;49m\u001b[38;5;124;43m'\u001b[39;49m\u001b[38;5;124;43mcount\u001b[39;49m\u001b[38;5;124;43m'\u001b[39;49m\u001b[43m,\u001b[49m\u001b[43mpalette\u001b[49m\u001b[38;5;241;43m=\u001b[39;49m\u001b[43m[\u001b[49m\u001b[38;5;124;43m'\u001b[39;49m\u001b[38;5;124;43mred\u001b[39;49m\u001b[38;5;124;43m'\u001b[39;49m\u001b[43m,\u001b[49m\u001b[38;5;124;43m'\u001b[39;49m\u001b[38;5;124;43mgreen\u001b[39;49m\u001b[38;5;124;43m'\u001b[39;49m\u001b[43m,\u001b[49m\u001b[38;5;124;43m'\u001b[39;49m\u001b[38;5;124;43mblue\u001b[39;49m\u001b[38;5;124;43m'\u001b[39;49m\u001b[43m]\u001b[49m\u001b[43m)\u001b[49m\n\u001b[0;32m      4\u001b[0m plt\u001b[38;5;241m.\u001b[39mtitle(\u001b[38;5;124m'\u001b[39m\u001b[38;5;124mDistributionof Smoking Status in the dataste\u001b[39m\u001b[38;5;124m'\u001b[39m)\n\u001b[0;32m      5\u001b[0m plt\u001b[38;5;241m.\u001b[39mshow()\n",
            "File \u001b[1;32mc:\\Users\\ramme\\AppData\\Local\\Programs\\Python\\Python310\\lib\\site-packages\\seaborn\\categorical.py:2341\u001b[0m, in \u001b[0;36mbarplot\u001b[1;34m(data, x, y, hue, order, hue_order, estimator, errorbar, n_boot, seed, units, weights, orient, color, palette, saturation, fill, hue_norm, width, dodge, gap, log_scale, native_scale, formatter, legend, capsize, err_kws, ci, errcolor, errwidth, ax, **kwargs)\u001b[0m\n\u001b[0;32m   2338\u001b[0m \u001b[38;5;28;01mif\u001b[39;00m estimator \u001b[38;5;129;01mis\u001b[39;00m \u001b[38;5;28mlen\u001b[39m:\n\u001b[0;32m   2339\u001b[0m     estimator \u001b[38;5;241m=\u001b[39m \u001b[38;5;124m\"\u001b[39m\u001b[38;5;124msize\u001b[39m\u001b[38;5;124m\"\u001b[39m\n\u001b[1;32m-> 2341\u001b[0m p \u001b[38;5;241m=\u001b[39m \u001b[43m_CategoricalAggPlotter\u001b[49m\u001b[43m(\u001b[49m\n\u001b[0;32m   2342\u001b[0m \u001b[43m    \u001b[49m\u001b[43mdata\u001b[49m\u001b[38;5;241;43m=\u001b[39;49m\u001b[43mdata\u001b[49m\u001b[43m,\u001b[49m\n\u001b[0;32m   2343\u001b[0m \u001b[43m    \u001b[49m\u001b[43mvariables\u001b[49m\u001b[38;5;241;43m=\u001b[39;49m\u001b[38;5;28;43mdict\u001b[39;49m\u001b[43m(\u001b[49m\u001b[43mx\u001b[49m\u001b[38;5;241;43m=\u001b[39;49m\u001b[43mx\u001b[49m\u001b[43m,\u001b[49m\u001b[43m \u001b[49m\u001b[43my\u001b[49m\u001b[38;5;241;43m=\u001b[39;49m\u001b[43my\u001b[49m\u001b[43m,\u001b[49m\u001b[43m \u001b[49m\u001b[43mhue\u001b[49m\u001b[38;5;241;43m=\u001b[39;49m\u001b[43mhue\u001b[49m\u001b[43m,\u001b[49m\u001b[43m \u001b[49m\u001b[43munits\u001b[49m\u001b[38;5;241;43m=\u001b[39;49m\u001b[43munits\u001b[49m\u001b[43m,\u001b[49m\u001b[43m \u001b[49m\u001b[43mweight\u001b[49m\u001b[38;5;241;43m=\u001b[39;49m\u001b[43mweights\u001b[49m\u001b[43m)\u001b[49m\u001b[43m,\u001b[49m\n\u001b[0;32m   2344\u001b[0m \u001b[43m    \u001b[49m\u001b[43morder\u001b[49m\u001b[38;5;241;43m=\u001b[39;49m\u001b[43morder\u001b[49m\u001b[43m,\u001b[49m\n\u001b[0;32m   2345\u001b[0m \u001b[43m    \u001b[49m\u001b[43morient\u001b[49m\u001b[38;5;241;43m=\u001b[39;49m\u001b[43morient\u001b[49m\u001b[43m,\u001b[49m\n\u001b[0;32m   2346\u001b[0m \u001b[43m    \u001b[49m\u001b[43mcolor\u001b[49m\u001b[38;5;241;43m=\u001b[39;49m\u001b[43mcolor\u001b[49m\u001b[43m,\u001b[49m\n\u001b[0;32m   2347\u001b[0m \u001b[43m    \u001b[49m\u001b[43mlegend\u001b[49m\u001b[38;5;241;43m=\u001b[39;49m\u001b[43mlegend\u001b[49m\u001b[43m,\u001b[49m\n\u001b[0;32m   2348\u001b[0m \u001b[43m\u001b[49m\u001b[43m)\u001b[49m\n\u001b[0;32m   2350\u001b[0m \u001b[38;5;28;01mif\u001b[39;00m ax \u001b[38;5;129;01mis\u001b[39;00m \u001b[38;5;28;01mNone\u001b[39;00m:\n\u001b[0;32m   2351\u001b[0m     ax \u001b[38;5;241m=\u001b[39m plt\u001b[38;5;241m.\u001b[39mgca()\n",
            "File \u001b[1;32mc:\\Users\\ramme\\AppData\\Local\\Programs\\Python\\Python310\\lib\\site-packages\\seaborn\\categorical.py:67\u001b[0m, in \u001b[0;36m_CategoricalPlotter.__init__\u001b[1;34m(self, data, variables, order, orient, require_numeric, color, legend)\u001b[0m\n\u001b[0;32m     56\u001b[0m \u001b[38;5;28;01mdef\u001b[39;00m \u001b[38;5;21m__init__\u001b[39m(\n\u001b[0;32m     57\u001b[0m     \u001b[38;5;28mself\u001b[39m,\n\u001b[0;32m     58\u001b[0m     data\u001b[38;5;241m=\u001b[39m\u001b[38;5;28;01mNone\u001b[39;00m,\n\u001b[1;32m   (...)\u001b[0m\n\u001b[0;32m     64\u001b[0m     legend\u001b[38;5;241m=\u001b[39m\u001b[38;5;124m\"\u001b[39m\u001b[38;5;124mauto\u001b[39m\u001b[38;5;124m\"\u001b[39m,\n\u001b[0;32m     65\u001b[0m ):\n\u001b[1;32m---> 67\u001b[0m     \u001b[38;5;28;43msuper\u001b[39;49m\u001b[43m(\u001b[49m\u001b[43m)\u001b[49m\u001b[38;5;241;43m.\u001b[39;49m\u001b[38;5;21;43m__init__\u001b[39;49m\u001b[43m(\u001b[49m\u001b[43mdata\u001b[49m\u001b[38;5;241;43m=\u001b[39;49m\u001b[43mdata\u001b[49m\u001b[43m,\u001b[49m\u001b[43m \u001b[49m\u001b[43mvariables\u001b[49m\u001b[38;5;241;43m=\u001b[39;49m\u001b[43mvariables\u001b[49m\u001b[43m)\u001b[49m\n\u001b[0;32m     69\u001b[0m     \u001b[38;5;66;03m# This method takes care of some bookkeeping that is necessary because the\u001b[39;00m\n\u001b[0;32m     70\u001b[0m     \u001b[38;5;66;03m# original categorical plots (prior to the 2021 refactor) had some rules that\u001b[39;00m\n\u001b[0;32m     71\u001b[0m     \u001b[38;5;66;03m# don't fit exactly into VectorPlotter logic. It may be wise to have a second\u001b[39;00m\n\u001b[1;32m   (...)\u001b[0m\n\u001b[0;32m     76\u001b[0m     \u001b[38;5;66;03m# default VectorPlotter rules. If we do decide to make orient part of the\u001b[39;00m\n\u001b[0;32m     77\u001b[0m     \u001b[38;5;66;03m# _base variable assignment, we'll want to figure out how to express that.\u001b[39;00m\n\u001b[0;32m     78\u001b[0m     \u001b[38;5;28;01mif\u001b[39;00m \u001b[38;5;28mself\u001b[39m\u001b[38;5;241m.\u001b[39minput_format \u001b[38;5;241m==\u001b[39m \u001b[38;5;124m\"\u001b[39m\u001b[38;5;124mwide\u001b[39m\u001b[38;5;124m\"\u001b[39m \u001b[38;5;129;01mand\u001b[39;00m orient \u001b[38;5;129;01min\u001b[39;00m [\u001b[38;5;124m\"\u001b[39m\u001b[38;5;124mh\u001b[39m\u001b[38;5;124m\"\u001b[39m, \u001b[38;5;124m\"\u001b[39m\u001b[38;5;124my\u001b[39m\u001b[38;5;124m\"\u001b[39m]:\n",
            "File \u001b[1;32mc:\\Users\\ramme\\AppData\\Local\\Programs\\Python\\Python310\\lib\\site-packages\\seaborn\\_base.py:634\u001b[0m, in \u001b[0;36mVectorPlotter.__init__\u001b[1;34m(self, data, variables)\u001b[0m\n\u001b[0;32m    629\u001b[0m \u001b[38;5;66;03m# var_ordered is relevant only for categorical axis variables, and may\u001b[39;00m\n\u001b[0;32m    630\u001b[0m \u001b[38;5;66;03m# be better handled by an internal axis information object that tracks\u001b[39;00m\n\u001b[0;32m    631\u001b[0m \u001b[38;5;66;03m# such information and is set up by the scale_* methods. The analogous\u001b[39;00m\n\u001b[0;32m    632\u001b[0m \u001b[38;5;66;03m# information for numeric axes would be information about log scales.\u001b[39;00m\n\u001b[0;32m    633\u001b[0m \u001b[38;5;28mself\u001b[39m\u001b[38;5;241m.\u001b[39m_var_ordered \u001b[38;5;241m=\u001b[39m {\u001b[38;5;124m\"\u001b[39m\u001b[38;5;124mx\u001b[39m\u001b[38;5;124m\"\u001b[39m: \u001b[38;5;28;01mFalse\u001b[39;00m, \u001b[38;5;124m\"\u001b[39m\u001b[38;5;124my\u001b[39m\u001b[38;5;124m\"\u001b[39m: \u001b[38;5;28;01mFalse\u001b[39;00m}  \u001b[38;5;66;03m# alt., used DefaultDict\u001b[39;00m\n\u001b[1;32m--> 634\u001b[0m \u001b[38;5;28;43mself\u001b[39;49m\u001b[38;5;241;43m.\u001b[39;49m\u001b[43massign_variables\u001b[49m\u001b[43m(\u001b[49m\u001b[43mdata\u001b[49m\u001b[43m,\u001b[49m\u001b[43m \u001b[49m\u001b[43mvariables\u001b[49m\u001b[43m)\u001b[49m\n\u001b[0;32m    636\u001b[0m \u001b[38;5;66;03m# TODO Lots of tests assume that these are called to initialize the\u001b[39;00m\n\u001b[0;32m    637\u001b[0m \u001b[38;5;66;03m# mappings to default values on class initialization. I'd prefer to\u001b[39;00m\n\u001b[0;32m    638\u001b[0m \u001b[38;5;66;03m# move away from that and only have a mapping when explicitly called.\u001b[39;00m\n\u001b[0;32m    639\u001b[0m \u001b[38;5;28;01mfor\u001b[39;00m var \u001b[38;5;129;01min\u001b[39;00m [\u001b[38;5;124m\"\u001b[39m\u001b[38;5;124mhue\u001b[39m\u001b[38;5;124m\"\u001b[39m, \u001b[38;5;124m\"\u001b[39m\u001b[38;5;124msize\u001b[39m\u001b[38;5;124m\"\u001b[39m, \u001b[38;5;124m\"\u001b[39m\u001b[38;5;124mstyle\u001b[39m\u001b[38;5;124m\"\u001b[39m]:\n",
            "File \u001b[1;32mc:\\Users\\ramme\\AppData\\Local\\Programs\\Python\\Python310\\lib\\site-packages\\seaborn\\_base.py:679\u001b[0m, in \u001b[0;36mVectorPlotter.assign_variables\u001b[1;34m(self, data, variables)\u001b[0m\n\u001b[0;32m    674\u001b[0m \u001b[38;5;28;01melse\u001b[39;00m:\n\u001b[0;32m    675\u001b[0m     \u001b[38;5;66;03m# When dealing with long-form input, use the newer PlotData\u001b[39;00m\n\u001b[0;32m    676\u001b[0m     \u001b[38;5;66;03m# object (internal but introduced for the objects interface)\u001b[39;00m\n\u001b[0;32m    677\u001b[0m     \u001b[38;5;66;03m# to centralize / standardize data consumption logic.\u001b[39;00m\n\u001b[0;32m    678\u001b[0m     \u001b[38;5;28mself\u001b[39m\u001b[38;5;241m.\u001b[39minput_format \u001b[38;5;241m=\u001b[39m \u001b[38;5;124m\"\u001b[39m\u001b[38;5;124mlong\u001b[39m\u001b[38;5;124m\"\u001b[39m\n\u001b[1;32m--> 679\u001b[0m     plot_data \u001b[38;5;241m=\u001b[39m \u001b[43mPlotData\u001b[49m\u001b[43m(\u001b[49m\u001b[43mdata\u001b[49m\u001b[43m,\u001b[49m\u001b[43m \u001b[49m\u001b[43mvariables\u001b[49m\u001b[43m)\u001b[49m\n\u001b[0;32m    680\u001b[0m     frame \u001b[38;5;241m=\u001b[39m plot_data\u001b[38;5;241m.\u001b[39mframe\n\u001b[0;32m    681\u001b[0m     names \u001b[38;5;241m=\u001b[39m plot_data\u001b[38;5;241m.\u001b[39mnames\n",
            "File \u001b[1;32mc:\\Users\\ramme\\AppData\\Local\\Programs\\Python\\Python310\\lib\\site-packages\\seaborn\\_core\\data.py:58\u001b[0m, in \u001b[0;36mPlotData.__init__\u001b[1;34m(self, data, variables)\u001b[0m\n\u001b[0;32m     51\u001b[0m \u001b[38;5;28;01mdef\u001b[39;00m \u001b[38;5;21m__init__\u001b[39m(\n\u001b[0;32m     52\u001b[0m     \u001b[38;5;28mself\u001b[39m,\n\u001b[0;32m     53\u001b[0m     data: DataSource,\n\u001b[0;32m     54\u001b[0m     variables: \u001b[38;5;28mdict\u001b[39m[\u001b[38;5;28mstr\u001b[39m, VariableSpec],\n\u001b[0;32m     55\u001b[0m ):\n\u001b[0;32m     57\u001b[0m     data \u001b[38;5;241m=\u001b[39m handle_data_source(data)\n\u001b[1;32m---> 58\u001b[0m     frame, names, ids \u001b[38;5;241m=\u001b[39m \u001b[38;5;28;43mself\u001b[39;49m\u001b[38;5;241;43m.\u001b[39;49m\u001b[43m_assign_variables\u001b[49m\u001b[43m(\u001b[49m\u001b[43mdata\u001b[49m\u001b[43m,\u001b[49m\u001b[43m \u001b[49m\u001b[43mvariables\u001b[49m\u001b[43m)\u001b[49m\n\u001b[0;32m     60\u001b[0m     \u001b[38;5;28mself\u001b[39m\u001b[38;5;241m.\u001b[39mframe \u001b[38;5;241m=\u001b[39m frame\n\u001b[0;32m     61\u001b[0m     \u001b[38;5;28mself\u001b[39m\u001b[38;5;241m.\u001b[39mnames \u001b[38;5;241m=\u001b[39m names\n",
            "File \u001b[1;32mc:\\Users\\ramme\\AppData\\Local\\Programs\\Python\\Python310\\lib\\site-packages\\seaborn\\_core\\data.py:232\u001b[0m, in \u001b[0;36mPlotData._assign_variables\u001b[1;34m(self, data, variables)\u001b[0m\n\u001b[0;32m    230\u001b[0m     \u001b[38;5;28;01melse\u001b[39;00m:\n\u001b[0;32m    231\u001b[0m         err \u001b[38;5;241m+\u001b[39m\u001b[38;5;241m=\u001b[39m \u001b[38;5;124m\"\u001b[39m\u001b[38;5;124mAn entry with this name does not appear in `data`.\u001b[39m\u001b[38;5;124m\"\u001b[39m\n\u001b[1;32m--> 232\u001b[0m     \u001b[38;5;28;01mraise\u001b[39;00m \u001b[38;5;167;01mValueError\u001b[39;00m(err)\n\u001b[0;32m    234\u001b[0m \u001b[38;5;28;01melse\u001b[39;00m:\n\u001b[0;32m    235\u001b[0m \n\u001b[0;32m    236\u001b[0m     \u001b[38;5;66;03m# Otherwise, assume the value somehow represents data\u001b[39;00m\n\u001b[0;32m    237\u001b[0m \n\u001b[0;32m    238\u001b[0m     \u001b[38;5;66;03m# Ignore empty data structures\u001b[39;00m\n\u001b[0;32m    239\u001b[0m     \u001b[38;5;28;01mif\u001b[39;00m \u001b[38;5;28misinstance\u001b[39m(val, Sized) \u001b[38;5;129;01mand\u001b[39;00m \u001b[38;5;28mlen\u001b[39m(val) \u001b[38;5;241m==\u001b[39m \u001b[38;5;241m0\u001b[39m:\n",
            "\u001b[1;31mValueError\u001b[0m: Could not interpret value `smoking_status` for `x`. An entry with this name does not appear in `data`."
          ]
        },
        {
          "data": {
            "text/plain": [
              "<Figure size 1200x800 with 0 Axes>"
            ]
          },
          "metadata": {},
          "output_type": "display_data"
        }
      ],
      "source": [
        "## write your code here (show graph)\n",
        "plt.figure(figsize=(12,8))\n",
        "sns.barplot(data=hyper_df,x='smoking_status',y='count',palette=['red','green','blue'])\n",
        "plt.title('Distributionof Smoking Status in the dataste')\n",
        "plt.show()\n"
      ]
    },
    {
      "cell_type": "markdown",
      "metadata": {
        "id": "-1CQbv7iUbcl"
      },
      "source": [
        "## stroke feature"
      ]
    },
    {
      "cell_type": "code",
      "execution_count": null,
      "metadata": {
        "id": "HsJogkAMUdMB"
      },
      "outputs": [],
      "source": [
        "## write your code here\n"
      ]
    },
    {
      "cell_type": "code",
      "execution_count": null,
      "metadata": {
        "id": "_D-g2NbkUdSj"
      },
      "outputs": [],
      "source": [
        "## write your code here(piechart)\n"
      ]
    },
    {
      "cell_type": "markdown",
      "metadata": {
        "id": "gTTbq1PiUR32"
      },
      "source": [
        "# Bivariate Analysis\n",
        "## Is there a chance that patients with hypertension has more likely to get a stroke or not? (cross_tab function)"
      ]
    },
    {
      "cell_type": "code",
      "execution_count": null,
      "metadata": {
        "id": "ThzCvC9sTl5n"
      },
      "outputs": [],
      "source": [
        "## write your code here\n"
      ]
    },
    {
      "cell_type": "markdown",
      "metadata": {
        "id": "LtsOO7YmV0eD"
      },
      "source": [
        "## Hypothesis Testing (Chisquare test for Independence)\n",
        "\n",
        "\n",
        "chi2, p, dof, expected = chi2_contingency(stroke_hypertension_df)"
      ]
    },
    {
      "cell_type": "code",
      "execution_count": null,
      "metadata": {
        "id": "aBEHqaZypJhz"
      },
      "outputs": [],
      "source": []
    },
    {
      "cell_type": "code",
      "execution_count": null,
      "metadata": {
        "id": "-9vhMDdqV01Q"
      },
      "outputs": [
        {
          "ename": "ModuleNotFoundError",
          "evalue": "No module named 'scipy'",
          "output_type": "error",
          "traceback": [
            "\u001b[1;31m---------------------------------------------------------------------------\u001b[0m",
            "\u001b[1;31mModuleNotFoundError\u001b[0m                       Traceback (most recent call last)",
            "Cell \u001b[1;32mIn[613], line 1\u001b[0m\n\u001b[1;32m----> 1\u001b[0m \u001b[38;5;28;01mfrom\u001b[39;00m \u001b[38;5;21;01mscipy\u001b[39;00m\u001b[38;5;21;01m.\u001b[39;00m\u001b[38;5;21;01mstats\u001b[39;00m \u001b[38;5;28;01mimport\u001b[39;00m chi2_contingency\n",
            "\u001b[1;31mModuleNotFoundError\u001b[0m: No module named 'scipy'"
          ]
        }
      ],
      "source": [
        "from scipy.stats import chi2_contingency"
      ]
    },
    {
      "cell_type": "code",
      "execution_count": null,
      "metadata": {
        "id": "Y_rB2cTIVWEO"
      },
      "outputs": [],
      "source": [
        "# Perform Chi-square test\n",
        "\n"
      ]
    },
    {
      "cell_type": "markdown",
      "metadata": {
        "id": "ufOhe3T9WcsO"
      },
      "source": [
        "## Group Barplot"
      ]
    },
    {
      "cell_type": "code",
      "execution_count": null,
      "metadata": {
        "id": "5cIzszcLWUo_"
      },
      "outputs": [],
      "source": [
        "## write your code here\n"
      ]
    },
    {
      "cell_type": "code",
      "execution_count": null,
      "metadata": {
        "id": "HULtKCswWnMt"
      },
      "outputs": [],
      "source": [
        "# Plot using Seaborn\n",
        "\n"
      ]
    },
    {
      "cell_type": "markdown",
      "metadata": {
        "id": "nuRlc2MHXcXn"
      },
      "source": [
        "## heart disease"
      ]
    },
    {
      "cell_type": "code",
      "execution_count": null,
      "metadata": {
        "id": "Nr6S55KcW8gN"
      },
      "outputs": [],
      "source": [
        "## write your code here\n"
      ]
    },
    {
      "cell_type": "code",
      "execution_count": null,
      "metadata": {
        "id": "yyTfktueXwPa"
      },
      "outputs": [],
      "source": [
        "## write your code here\n"
      ]
    },
    {
      "cell_type": "markdown",
      "metadata": {
        "id": "vu_GERuWXnwD"
      },
      "source": [
        "## Hypothesis Testing (Chisquare test for Independence)\n"
      ]
    },
    {
      "cell_type": "code",
      "execution_count": null,
      "metadata": {
        "id": "LyYbz6JzXgry"
      },
      "outputs": [],
      "source": [
        "# Perform Chi-square test\n",
        "\n"
      ]
    },
    {
      "cell_type": "markdown",
      "metadata": {
        "id": "Wwjfrp15YCRd"
      },
      "source": [
        "## Group Bar plot"
      ]
    },
    {
      "cell_type": "code",
      "execution_count": null,
      "metadata": {
        "id": "26IAU0CUX-pn"
      },
      "outputs": [],
      "source": [
        "## write your code here with long format table\n"
      ]
    },
    {
      "cell_type": "code",
      "execution_count": null,
      "metadata": {
        "id": "FG2r0VgUYWcj"
      },
      "outputs": [],
      "source": [
        "## write your code here\n"
      ]
    },
    {
      "cell_type": "code",
      "execution_count": null,
      "metadata": {
        "id": "P9Ml4bE6YjY5"
      },
      "outputs": [],
      "source": []
    },
    {
      "cell_type": "code",
      "execution_count": null,
      "metadata": {
        "id": "JoPCIcQQYy6c"
      },
      "outputs": [],
      "source": []
    },
    {
      "cell_type": "code",
      "execution_count": null,
      "metadata": {
        "id": "mn2-44UgYy-p"
      },
      "outputs": [],
      "source": []
    },
    {
      "cell_type": "code",
      "execution_count": null,
      "metadata": {
        "id": "DEStIMU5YzDA"
      },
      "outputs": [],
      "source": []
    },
    {
      "cell_type": "markdown",
      "metadata": {
        "id": "kY8OEbjOYz_n"
      },
      "source": [
        "## Numerical Features"
      ]
    },
    {
      "cell_type": "code",
      "execution_count": null,
      "metadata": {
        "id": "vKovecgVY4XD"
      },
      "outputs": [],
      "source": [
        "# select numerical features\n",
        "## write your code here\n"
      ]
    },
    {
      "cell_type": "markdown",
      "metadata": {
        "id": "oze9WaJeZg1j"
      },
      "source": [
        "## age column"
      ]
    },
    {
      "cell_type": "code",
      "execution_count": null,
      "metadata": {
        "id": "ho4MBiwJZFSz"
      },
      "outputs": [],
      "source": [
        "## write your code here (for histogram)\n"
      ]
    },
    {
      "cell_type": "code",
      "execution_count": null,
      "metadata": {
        "id": "I3Zd7-fMZSqA"
      },
      "outputs": [],
      "source": [
        "## write your code here (for kde plot)\n"
      ]
    },
    {
      "cell_type": "code",
      "execution_count": null,
      "metadata": {
        "id": "Qd_mvJfsaPxf"
      },
      "outputs": [],
      "source": [
        "## write your code here (for outlier analysis using boxplot)\n"
      ]
    },
    {
      "cell_type": "code",
      "execution_count": null,
      "metadata": {
        "id": "K-k5xhxuZbvT"
      },
      "outputs": [],
      "source": []
    },
    {
      "cell_type": "markdown",
      "metadata": {
        "id": "uEgcrDrNZ36B"
      },
      "source": [
        "## Bmi column"
      ]
    },
    {
      "cell_type": "code",
      "execution_count": null,
      "metadata": {
        "id": "EsZqBKByZkmu"
      },
      "outputs": [],
      "source": [
        "## write your code here (for histogram)\n"
      ]
    },
    {
      "cell_type": "code",
      "execution_count": null,
      "metadata": {
        "id": "uS6q70cpZ9BM"
      },
      "outputs": [],
      "source": [
        "## write your code here (for kde plot)"
      ]
    },
    {
      "cell_type": "code",
      "execution_count": null,
      "metadata": {
        "id": "A_n8remsaBov"
      },
      "outputs": [],
      "source": []
    },
    {
      "cell_type": "code",
      "execution_count": null,
      "metadata": {
        "id": "7FlzRT1PaMG4"
      },
      "outputs": [],
      "source": [
        "## write your code here (for boxplot outlier analysis)\n"
      ]
    },
    {
      "cell_type": "markdown",
      "metadata": {
        "id": "qrqg2Tc4hbh-"
      },
      "source": [
        "### Hypothesis Test For Normality\n",
        "\n",
        "\n",
        "# Perform Kolmogorov-Smirnov test\n",
        "statistic, pvalue = kstest(final_df['bmi'], 'norm')\n",
        "\n",
        "# Print the result\n",
        "print(\"Kolmogorov-Smirnov Test Statistic:\", statistic)\n",
        "\n",
        "print(\"p-value:\", pvalue)\n",
        "\n",
        "# Interpret the results\n",
        "alpha = 0.05  # Significance level\n",
        "\n",
        "if pvalue > alpha:\n",
        "    print(\"Sample looks Gaussian (fail to reject H0)\")\n",
        "    \n",
        "else:\n",
        "    print(\"Sample does not look Gaussian (reject H0)\")\n"
      ]
    },
    {
      "cell_type": "code",
      "execution_count": null,
      "metadata": {
        "id": "bQO-iM8ego4K"
      },
      "outputs": [],
      "source": [
        "from scipy.stats import kstest, shapiro"
      ]
    },
    {
      "cell_type": "markdown",
      "metadata": {
        "id": "5YiAa1gHahk3"
      },
      "source": [
        "## Scatterplots"
      ]
    },
    {
      "cell_type": "code",
      "execution_count": null,
      "metadata": {
        "id": "Qar1MmSJaj2W"
      },
      "outputs": [],
      "source": [
        "## write your code here\n"
      ]
    },
    {
      "cell_type": "markdown",
      "metadata": {
        "id": "qlYbOrl_qBtC"
      },
      "source": [
        "## Correlation Plots and Heatmaps"
      ]
    },
    {
      "cell_type": "code",
      "execution_count": null,
      "metadata": {
        "id": "8k5My7vgbAKZ"
      },
      "outputs": [],
      "source": [
        "## write your code here\n"
      ]
    },
    {
      "cell_type": "code",
      "execution_count": null,
      "metadata": {
        "id": "-Kj76sN1bUGS"
      },
      "outputs": [],
      "source": []
    },
    {
      "cell_type": "code",
      "execution_count": null,
      "metadata": {
        "id": "DEIlMKKNfztU"
      },
      "outputs": [],
      "source": []
    }
  ],
  "metadata": {
    "colab": {
      "provenance": []
    },
    "kernelspec": {
      "display_name": "Python 3",
      "name": "python3"
    },
    "language_info": {
      "codemirror_mode": {
        "name": "ipython",
        "version": 3
      },
      "file_extension": ".py",
      "mimetype": "text/x-python",
      "name": "python",
      "nbconvert_exporter": "python",
      "pygments_lexer": "ipython3",
      "version": "3.10.0"
    }
  },
  "nbformat": 4,
  "nbformat_minor": 0
}
